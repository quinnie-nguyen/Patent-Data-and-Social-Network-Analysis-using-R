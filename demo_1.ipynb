{
  "nbformat": 4,
  "nbformat_minor": 0,
  "metadata": {
    "colab": {
      "name": "demo_1.ipynb",
      "provenance": [],
      "include_colab_link": true
    },
    "kernelspec": {
      "display_name": "Python 3",
      "name": "python3"
    }
  },
  "cells": [
    {
      "cell_type": "markdown",
      "metadata": {
        "id": "view-in-github",
        "colab_type": "text"
      },
      "source": [
        "<a href=\"https://colab.research.google.com/github/quinnie-nguyen/Patent-Data-and-Social-Network-Analysis-using-R/blob/master/demo_1.ipynb\" target=\"_parent\"><img src=\"https://colab.research.google.com/assets/colab-badge.svg\" alt=\"Open In Colab\"/></a>"
      ]
    },
    {
      "cell_type": "markdown",
      "metadata": {
        "id": "UoXAnwu2m5na"
      },
      "source": [
        "This notebook uses cleaned data, i.e, a)drop all features that have more than 80% misssing values; b) drop rows that have more than 50% features missing; c)imputation by mean, mode, median.\r\n",
        "\r\n",
        "\r\n",
        "Let's see how it works!\r\n",
        "\r\n",
        "\r\n",
        "!!!!!!!!! minimum accuracy must be **78.3%**"
      ]
    },
    {
      "cell_type": "code",
      "metadata": {
        "colab": {
          "base_uri": "https://localhost:8080/"
        },
        "id": "_QJ6_Xbfm3gU",
        "outputId": "bb4257f3-3015-4adf-c7e7-b02487384769"
      },
      "source": [
        "from google.colab import drive\r\n",
        "drive.mount('/content/gdrive')"
      ],
      "execution_count": null,
      "outputs": [
        {
          "output_type": "stream",
          "text": [
            "Mounted at /content/gdrive\n"
          ],
          "name": "stdout"
        }
      ]
    },
    {
      "cell_type": "code",
      "metadata": {
        "id": "ljIAtye-nkHp"
      },
      "source": [
        "# import libraries\r\n",
        "import numpy as np\r\n",
        "import pandas as pd\r\n",
        "import matplotlib.pyplot as plt\r\n",
        "import seaborn as sns\r\n",
        "from sklearn.model_selection import train_test_split\r\n",
        "from sklearn.metrics import accuracy_score\r\n",
        "from sklearn.metrics import classification_report\r\n",
        "from sklearn.ensemble import VotingClassifier\r\n",
        "from sklearn.pipeline import Pipeline\r\n",
        "from functools import partial\r\n",
        "from collections import Counter\r\n",
        "from sklearn.naive_bayes import GaussianNB\r\n",
        "from sklearn.model_selection import RepeatedStratifiedKFold\r\n",
        "from sklearn.tree import DecisionTreeClassifier\r\n",
        "from imblearn.over_sampling import SMOTE\r\n",
        "from imblearn.over_sampling import BorderlineSMOTE\r\n",
        "from sklearn.linear_model import LogisticRegression\r\n",
        "from sklearn.ensemble import RandomForestClassifier\r\n",
        "from xgboost import XGBClassifier\r\n",
        "from sklearn.neighbors import KNeighborsClassifier\r\n",
        "from sklearn.model_selection import StratifiedKFold\r\n",
        "from imblearn.over_sampling import RandomOverSampler\r\n",
        "from imblearn.under_sampling import RandomUnderSampler"
      ],
      "execution_count": null,
      "outputs": []
    },
    {
      "cell_type": "code",
      "metadata": {
        "id": "KtkNfwR6nqhD"
      },
      "source": [
        "# load data\r\n",
        "df = pd.read_csv('/content/gdrive/My Drive/WIDS/cleaned_data_0702.csv')\r\n",
        "dictionary = pd.read_excel('/content/gdrive/My Drive/WIDS/DataDictionaryWiDS2021-fixed-thu-tu.xlsx')"
      ],
      "execution_count": null,
      "outputs": []
    },
    {
      "cell_type": "code",
      "metadata": {
        "colab": {
          "base_uri": "https://localhost:8080/",
          "height": 1000
        },
        "id": "HX8iDrb5ohlN",
        "outputId": "3d7fa396-1432-4ea0-8887-de91809be116"
      },
      "source": [
        "dictionary"
      ],
      "execution_count": null,
      "outputs": [
        {
          "output_type": "execute_result",
          "data": {
            "text/html": [
              "<div>\n",
              "<style scoped>\n",
              "    .dataframe tbody tr th:only-of-type {\n",
              "        vertical-align: middle;\n",
              "    }\n",
              "\n",
              "    .dataframe tbody tr th {\n",
              "        vertical-align: top;\n",
              "    }\n",
              "\n",
              "    .dataframe thead th {\n",
              "        text-align: right;\n",
              "    }\n",
              "</style>\n",
              "<table border=\"1\" class=\"dataframe\">\n",
              "  <thead>\n",
              "    <tr style=\"text-align: right;\">\n",
              "      <th></th>\n",
              "      <th>class</th>\n",
              "      <th>feature</th>\n",
              "      <th>value</th>\n",
              "      <th>type</th>\n",
              "      <th>description</th>\n",
              "      <th>example</th>\n",
              "      <th>rank</th>\n",
              "    </tr>\n",
              "  </thead>\n",
              "  <tbody>\n",
              "    <tr>\n",
              "      <th>0</th>\n",
              "      <td>APACHE covariate</td>\n",
              "      <td>glucose_apache</td>\n",
              "      <td>mmol/L</td>\n",
              "      <td>numeric</td>\n",
              "      <td>The glucose concentration measured during the ...</td>\n",
              "      <td>5</td>\n",
              "      <td>1</td>\n",
              "    </tr>\n",
              "    <tr>\n",
              "      <th>1</th>\n",
              "      <td>labs</td>\n",
              "      <td>h1_glucose_max</td>\n",
              "      <td>mmol/L</td>\n",
              "      <td>numeric</td>\n",
              "      <td>The highest glucose concentration of the patie...</td>\n",
              "      <td>5</td>\n",
              "      <td>2</td>\n",
              "    </tr>\n",
              "    <tr>\n",
              "      <th>2</th>\n",
              "      <td>labs</td>\n",
              "      <td>h1_glucose_min</td>\n",
              "      <td>mmol/L</td>\n",
              "      <td>numeric</td>\n",
              "      <td>The lowest glucose concentration of the patien...</td>\n",
              "      <td>5</td>\n",
              "      <td>2</td>\n",
              "    </tr>\n",
              "    <tr>\n",
              "      <th>3</th>\n",
              "      <td>labs</td>\n",
              "      <td>d1_glucose_max</td>\n",
              "      <td>mmol/L</td>\n",
              "      <td>numeric</td>\n",
              "      <td>The highest glucose concentration of the patie...</td>\n",
              "      <td>5</td>\n",
              "      <td>3</td>\n",
              "    </tr>\n",
              "    <tr>\n",
              "      <th>4</th>\n",
              "      <td>labs</td>\n",
              "      <td>d1_glucose_min</td>\n",
              "      <td>mmol/L</td>\n",
              "      <td>numeric</td>\n",
              "      <td>The lowest glucose concentration of the patien...</td>\n",
              "      <td>5</td>\n",
              "      <td>3</td>\n",
              "    </tr>\n",
              "    <tr>\n",
              "      <th>5</th>\n",
              "      <td>demographic</td>\n",
              "      <td>gender</td>\n",
              "      <td>None</td>\n",
              "      <td>string</td>\n",
              "      <td>The genotypical sex of the patient</td>\n",
              "      <td>F</td>\n",
              "      <td>4</td>\n",
              "    </tr>\n",
              "    <tr>\n",
              "      <th>6</th>\n",
              "      <td>demographic</td>\n",
              "      <td>height</td>\n",
              "      <td>centimetres</td>\n",
              "      <td>numeric</td>\n",
              "      <td>The height of the person on unit admission</td>\n",
              "      <td>180</td>\n",
              "      <td>5</td>\n",
              "    </tr>\n",
              "    <tr>\n",
              "      <th>7</th>\n",
              "      <td>demographic</td>\n",
              "      <td>weight</td>\n",
              "      <td>kilograms</td>\n",
              "      <td>numeric</td>\n",
              "      <td>The weight (body mass) of the person on unit a...</td>\n",
              "      <td>80</td>\n",
              "      <td>5</td>\n",
              "    </tr>\n",
              "    <tr>\n",
              "      <th>8</th>\n",
              "      <td>demographic</td>\n",
              "      <td>ethnicity</td>\n",
              "      <td>None</td>\n",
              "      <td>string</td>\n",
              "      <td>The common national or cultural tradition whic...</td>\n",
              "      <td>Caucasian</td>\n",
              "      <td>6</td>\n",
              "    </tr>\n",
              "    <tr>\n",
              "      <th>9</th>\n",
              "      <td>vitals</td>\n",
              "      <td>d1_diasbp_invasive_max</td>\n",
              "      <td>Millimetres of mercury</td>\n",
              "      <td>numeric</td>\n",
              "      <td>The patient's highest diastolic blood pressure...</td>\n",
              "      <td>60</td>\n",
              "      <td>7</td>\n",
              "    </tr>\n",
              "    <tr>\n",
              "      <th>10</th>\n",
              "      <td>vitals</td>\n",
              "      <td>d1_diasbp_invasive_min</td>\n",
              "      <td>Millimetres of mercury</td>\n",
              "      <td>numeric</td>\n",
              "      <td>The patient's lowest diastolic blood pressure ...</td>\n",
              "      <td>60</td>\n",
              "      <td>7</td>\n",
              "    </tr>\n",
              "    <tr>\n",
              "      <th>11</th>\n",
              "      <td>vitals</td>\n",
              "      <td>d1_diasbp_max</td>\n",
              "      <td>Millimetres of mercury</td>\n",
              "      <td>numeric</td>\n",
              "      <td>The patient's highest diastolic blood pressure...</td>\n",
              "      <td>60</td>\n",
              "      <td>8</td>\n",
              "    </tr>\n",
              "    <tr>\n",
              "      <th>12</th>\n",
              "      <td>vitals</td>\n",
              "      <td>d1_diasbp_min</td>\n",
              "      <td>Millimetres of mercury</td>\n",
              "      <td>numeric</td>\n",
              "      <td>The patient's lowest diastolic blood pressure ...</td>\n",
              "      <td>60</td>\n",
              "      <td>8</td>\n",
              "    </tr>\n",
              "    <tr>\n",
              "      <th>13</th>\n",
              "      <td>vitals</td>\n",
              "      <td>d1_diasbp_noninvasive_max</td>\n",
              "      <td>Millimetres of mercury</td>\n",
              "      <td>numeric</td>\n",
              "      <td>The patient's highest diastolic blood pressure...</td>\n",
              "      <td>60</td>\n",
              "      <td>9</td>\n",
              "    </tr>\n",
              "    <tr>\n",
              "      <th>14</th>\n",
              "      <td>vitals</td>\n",
              "      <td>d1_diasbp_noninvasive_min</td>\n",
              "      <td>Millimetres of mercury</td>\n",
              "      <td>numeric</td>\n",
              "      <td>The patient's lowest diastolic blood pressure ...</td>\n",
              "      <td>60</td>\n",
              "      <td>9</td>\n",
              "    </tr>\n",
              "    <tr>\n",
              "      <th>15</th>\n",
              "      <td>vitals</td>\n",
              "      <td>d1_sysbp_invasive_max</td>\n",
              "      <td>Millimetres of mercury</td>\n",
              "      <td>numeric</td>\n",
              "      <td>The patient's highest systolic blood pressure ...</td>\n",
              "      <td>120</td>\n",
              "      <td>10</td>\n",
              "    </tr>\n",
              "    <tr>\n",
              "      <th>16</th>\n",
              "      <td>vitals</td>\n",
              "      <td>d1_sysbp_invasive_min</td>\n",
              "      <td>Millimetres of mercury</td>\n",
              "      <td>numeric</td>\n",
              "      <td>The patient's lowest systolic blood pressure d...</td>\n",
              "      <td>120</td>\n",
              "      <td>10</td>\n",
              "    </tr>\n",
              "    <tr>\n",
              "      <th>17</th>\n",
              "      <td>vitals</td>\n",
              "      <td>d1_sysbp_max</td>\n",
              "      <td>Millimetres of mercury</td>\n",
              "      <td>numeric</td>\n",
              "      <td>The patient's highest systolic blood pressure ...</td>\n",
              "      <td>120</td>\n",
              "      <td>11</td>\n",
              "    </tr>\n",
              "    <tr>\n",
              "      <th>18</th>\n",
              "      <td>vitals</td>\n",
              "      <td>d1_sysbp_min</td>\n",
              "      <td>Millimetres of mercury</td>\n",
              "      <td>numeric</td>\n",
              "      <td>The patient's lowest systolic blood pressure d...</td>\n",
              "      <td>120</td>\n",
              "      <td>11</td>\n",
              "    </tr>\n",
              "    <tr>\n",
              "      <th>19</th>\n",
              "      <td>vitals</td>\n",
              "      <td>d1_sysbp_noninvasive_max</td>\n",
              "      <td>Millimetres of mercury</td>\n",
              "      <td>numeric</td>\n",
              "      <td>The patient's highest systolic blood pressure ...</td>\n",
              "      <td>120</td>\n",
              "      <td>12</td>\n",
              "    </tr>\n",
              "    <tr>\n",
              "      <th>20</th>\n",
              "      <td>vitals</td>\n",
              "      <td>d1_sysbp_noninvasive_min</td>\n",
              "      <td>Millimetres of mercury</td>\n",
              "      <td>numeric</td>\n",
              "      <td>The patient's lowest systolic blood pressure d...</td>\n",
              "      <td>120</td>\n",
              "      <td>12</td>\n",
              "    </tr>\n",
              "    <tr>\n",
              "      <th>21</th>\n",
              "      <td>APACHE covariate</td>\n",
              "      <td>heart_rate_apache</td>\n",
              "      <td>Beats per minute</td>\n",
              "      <td>numeric</td>\n",
              "      <td>The heart rate measured during the first 24 ho...</td>\n",
              "      <td>75</td>\n",
              "      <td>13</td>\n",
              "    </tr>\n",
              "    <tr>\n",
              "      <th>22</th>\n",
              "      <td>vitals</td>\n",
              "      <td>d1_heartrate_max</td>\n",
              "      <td>Beats per minute</td>\n",
              "      <td>numeric</td>\n",
              "      <td>The patient's highest heart rate during the fi...</td>\n",
              "      <td>75</td>\n",
              "      <td>14</td>\n",
              "    </tr>\n",
              "    <tr>\n",
              "      <th>23</th>\n",
              "      <td>vitals</td>\n",
              "      <td>d1_heartrate_min</td>\n",
              "      <td>Beats per minute</td>\n",
              "      <td>numeric</td>\n",
              "      <td>The patient's lowest heart rate during the fir...</td>\n",
              "      <td>75</td>\n",
              "      <td>14</td>\n",
              "    </tr>\n",
              "    <tr>\n",
              "      <th>24</th>\n",
              "      <td>vitals</td>\n",
              "      <td>h1_diasbp_invasive_max</td>\n",
              "      <td>Millimetres of mercury</td>\n",
              "      <td>numeric</td>\n",
              "      <td>The patient's highest diastolic blood pressure...</td>\n",
              "      <td>60</td>\n",
              "      <td>15</td>\n",
              "    </tr>\n",
              "    <tr>\n",
              "      <th>25</th>\n",
              "      <td>vitals</td>\n",
              "      <td>h1_diasbp_invasive_min</td>\n",
              "      <td>Millimetres of mercury</td>\n",
              "      <td>numeric</td>\n",
              "      <td>The patient's lowest diastolic blood pressure ...</td>\n",
              "      <td>60</td>\n",
              "      <td>15</td>\n",
              "    </tr>\n",
              "    <tr>\n",
              "      <th>26</th>\n",
              "      <td>vitals</td>\n",
              "      <td>h1_diasbp_max</td>\n",
              "      <td>Millimetres of mercury</td>\n",
              "      <td>numeric</td>\n",
              "      <td>The patient's highest diastolic blood pressure...</td>\n",
              "      <td>60</td>\n",
              "      <td>16</td>\n",
              "    </tr>\n",
              "    <tr>\n",
              "      <th>27</th>\n",
              "      <td>vitals</td>\n",
              "      <td>h1_diasbp_min</td>\n",
              "      <td>Millimetres of mercury</td>\n",
              "      <td>numeric</td>\n",
              "      <td>The patient's lowest diastolic blood pressure ...</td>\n",
              "      <td>60</td>\n",
              "      <td>16</td>\n",
              "    </tr>\n",
              "    <tr>\n",
              "      <th>28</th>\n",
              "      <td>vitals</td>\n",
              "      <td>h1_diasbp_noninvasive_max</td>\n",
              "      <td>Millimetres of mercury</td>\n",
              "      <td>numeric</td>\n",
              "      <td>The patient's highest diastolic blood pressure...</td>\n",
              "      <td>60</td>\n",
              "      <td>17</td>\n",
              "    </tr>\n",
              "    <tr>\n",
              "      <th>29</th>\n",
              "      <td>vitals</td>\n",
              "      <td>h1_diasbp_noninvasive_min</td>\n",
              "      <td>Millimetres of mercury</td>\n",
              "      <td>numeric</td>\n",
              "      <td>The patient's lowest diastolic blood pressure ...</td>\n",
              "      <td>60</td>\n",
              "      <td>17</td>\n",
              "    </tr>\n",
              "    <tr>\n",
              "      <th>30</th>\n",
              "      <td>vitals</td>\n",
              "      <td>h1_sysbp_invasive_max</td>\n",
              "      <td>Millimetres of mercury</td>\n",
              "      <td>numeric</td>\n",
              "      <td>The patient's highest systolic blood pressure ...</td>\n",
              "      <td>120</td>\n",
              "      <td>18</td>\n",
              "    </tr>\n",
              "    <tr>\n",
              "      <th>31</th>\n",
              "      <td>vitals</td>\n",
              "      <td>h1_sysbp_invasive_min</td>\n",
              "      <td>Millimetres of mercury</td>\n",
              "      <td>numeric</td>\n",
              "      <td>The patient's lowest systolic blood pressure d...</td>\n",
              "      <td>120</td>\n",
              "      <td>18</td>\n",
              "    </tr>\n",
              "    <tr>\n",
              "      <th>32</th>\n",
              "      <td>vitals</td>\n",
              "      <td>h1_sysbp_max</td>\n",
              "      <td>Millimetres of mercury</td>\n",
              "      <td>numeric</td>\n",
              "      <td>The patient's highest systolic blood pressure ...</td>\n",
              "      <td>120</td>\n",
              "      <td>19</td>\n",
              "    </tr>\n",
              "    <tr>\n",
              "      <th>33</th>\n",
              "      <td>vitals</td>\n",
              "      <td>h1_sysbp_min</td>\n",
              "      <td>Millimetres of mercury</td>\n",
              "      <td>numeric</td>\n",
              "      <td>The patient's lowest systolic blood pressure d...</td>\n",
              "      <td>120</td>\n",
              "      <td>19</td>\n",
              "    </tr>\n",
              "    <tr>\n",
              "      <th>34</th>\n",
              "      <td>vitals</td>\n",
              "      <td>h1_sysbp_noninvasive_max</td>\n",
              "      <td>Millimetres of mercury</td>\n",
              "      <td>numeric</td>\n",
              "      <td>The patient's highest systolic blood pressure ...</td>\n",
              "      <td>120</td>\n",
              "      <td>20</td>\n",
              "    </tr>\n",
              "    <tr>\n",
              "      <th>35</th>\n",
              "      <td>vitals</td>\n",
              "      <td>h1_sysbp_noninvasive_min</td>\n",
              "      <td>Millimetres of mercury</td>\n",
              "      <td>numeric</td>\n",
              "      <td>The patient's lowest systolic blood pressure d...</td>\n",
              "      <td>120</td>\n",
              "      <td>20</td>\n",
              "    </tr>\n",
              "    <tr>\n",
              "      <th>36</th>\n",
              "      <td>vitals</td>\n",
              "      <td>h1_heartrate_max</td>\n",
              "      <td>Beats per minute</td>\n",
              "      <td>numeric</td>\n",
              "      <td>The patient's highest heart rate during the fi...</td>\n",
              "      <td>75</td>\n",
              "      <td>21</td>\n",
              "    </tr>\n",
              "    <tr>\n",
              "      <th>37</th>\n",
              "      <td>vitals</td>\n",
              "      <td>h1_heartrate_min</td>\n",
              "      <td>Beats per minute</td>\n",
              "      <td>numeric</td>\n",
              "      <td>The patient's lowest heart rate during the fir...</td>\n",
              "      <td>75</td>\n",
              "      <td>21</td>\n",
              "    </tr>\n",
              "    <tr>\n",
              "      <th>38</th>\n",
              "      <td>labs</td>\n",
              "      <td>d1_albumin_max</td>\n",
              "      <td>None</td>\n",
              "      <td>numeric</td>\n",
              "      <td>The lowest albumin concentration of the patien...</td>\n",
              "      <td>30</td>\n",
              "      <td>22</td>\n",
              "    </tr>\n",
              "    <tr>\n",
              "      <th>39</th>\n",
              "      <td>labs</td>\n",
              "      <td>d1_albumin_min</td>\n",
              "      <td>g/L</td>\n",
              "      <td>numeric</td>\n",
              "      <td>The lowest albumin concentration of the patien...</td>\n",
              "      <td>30</td>\n",
              "      <td>22</td>\n",
              "    </tr>\n",
              "    <tr>\n",
              "      <th>40</th>\n",
              "      <td>labs</td>\n",
              "      <td>h1_lactate_max</td>\n",
              "      <td>mmol/L</td>\n",
              "      <td>numeric</td>\n",
              "      <td>The highest lactate concentration for the pati...</td>\n",
              "      <td>1</td>\n",
              "      <td>24</td>\n",
              "    </tr>\n",
              "    <tr>\n",
              "      <th>41</th>\n",
              "      <td>labs</td>\n",
              "      <td>h1_lactate_min</td>\n",
              "      <td>mmol/L</td>\n",
              "      <td>numeric</td>\n",
              "      <td>The lowest lactate concentration for the patie...</td>\n",
              "      <td>1</td>\n",
              "      <td>24</td>\n",
              "    </tr>\n",
              "    <tr>\n",
              "      <th>42</th>\n",
              "      <td>labs</td>\n",
              "      <td>d1_lactate_max</td>\n",
              "      <td>mmol/L</td>\n",
              "      <td>numeric</td>\n",
              "      <td>The highest lactate concentration for the pati...</td>\n",
              "      <td>1</td>\n",
              "      <td>25</td>\n",
              "    </tr>\n",
              "    <tr>\n",
              "      <th>43</th>\n",
              "      <td>labs</td>\n",
              "      <td>d1_lactate_min</td>\n",
              "      <td>mmol/L</td>\n",
              "      <td>numeric</td>\n",
              "      <td>The lowest lactate concentration for the patie...</td>\n",
              "      <td>1</td>\n",
              "      <td>25</td>\n",
              "    </tr>\n",
              "    <tr>\n",
              "      <th>44</th>\n",
              "      <td>labs</td>\n",
              "      <td>d1_bilirubin_max</td>\n",
              "      <td>micromol/L</td>\n",
              "      <td>numeric</td>\n",
              "      <td>The highest bilirubin concentration of the pat...</td>\n",
              "      <td>20</td>\n",
              "      <td>26</td>\n",
              "    </tr>\n",
              "    <tr>\n",
              "      <th>45</th>\n",
              "      <td>labs</td>\n",
              "      <td>d1_bilirubin_min</td>\n",
              "      <td>micromol/L</td>\n",
              "      <td>numeric</td>\n",
              "      <td>The lowest bilirubin concentration of the pati...</td>\n",
              "      <td>20</td>\n",
              "      <td>26</td>\n",
              "    </tr>\n",
              "    <tr>\n",
              "      <th>46</th>\n",
              "      <td>labs</td>\n",
              "      <td>h1_albumin_max</td>\n",
              "      <td>None</td>\n",
              "      <td>numeric</td>\n",
              "      <td>The lowest albumin concentration of the patien...</td>\n",
              "      <td>30</td>\n",
              "      <td>27</td>\n",
              "    </tr>\n",
              "    <tr>\n",
              "      <th>47</th>\n",
              "      <td>labs</td>\n",
              "      <td>h1_albumin_min</td>\n",
              "      <td>g/L</td>\n",
              "      <td>numeric</td>\n",
              "      <td>The lowest albumin concentration of the patien...</td>\n",
              "      <td>30</td>\n",
              "      <td>27</td>\n",
              "    </tr>\n",
              "    <tr>\n",
              "      <th>48</th>\n",
              "      <td>labs</td>\n",
              "      <td>h1_bilirubin_max</td>\n",
              "      <td>micromol/L</td>\n",
              "      <td>numeric</td>\n",
              "      <td>The highest bilirubin concentration of the pat...</td>\n",
              "      <td>20</td>\n",
              "      <td>28</td>\n",
              "    </tr>\n",
              "    <tr>\n",
              "      <th>49</th>\n",
              "      <td>labs</td>\n",
              "      <td>h1_bilirubin_min</td>\n",
              "      <td>micromol/L</td>\n",
              "      <td>numeric</td>\n",
              "      <td>The lowest bilirubin concentration of the pati...</td>\n",
              "      <td>20</td>\n",
              "      <td>28</td>\n",
              "    </tr>\n",
              "  </tbody>\n",
              "</table>\n",
              "</div>"
            ],
            "text/plain": [
              "               class                    feature  ...    example rank\n",
              "0   APACHE covariate             glucose_apache  ...          5    1\n",
              "1               labs             h1_glucose_max  ...          5    2\n",
              "2               labs             h1_glucose_min  ...          5    2\n",
              "3               labs             d1_glucose_max  ...          5    3\n",
              "4               labs             d1_glucose_min  ...          5    3\n",
              "5        demographic                     gender  ...          F    4\n",
              "6        demographic                     height  ...        180    5\n",
              "7        demographic                     weight  ...         80    5\n",
              "8        demographic                  ethnicity  ...  Caucasian    6\n",
              "9             vitals     d1_diasbp_invasive_max  ...         60    7\n",
              "10            vitals     d1_diasbp_invasive_min  ...         60    7\n",
              "11            vitals              d1_diasbp_max  ...         60    8\n",
              "12            vitals              d1_diasbp_min  ...         60    8\n",
              "13            vitals  d1_diasbp_noninvasive_max  ...         60    9\n",
              "14            vitals  d1_diasbp_noninvasive_min  ...         60    9\n",
              "15            vitals      d1_sysbp_invasive_max  ...        120   10\n",
              "16            vitals      d1_sysbp_invasive_min  ...        120   10\n",
              "17            vitals               d1_sysbp_max  ...        120   11\n",
              "18            vitals               d1_sysbp_min  ...        120   11\n",
              "19            vitals   d1_sysbp_noninvasive_max  ...        120   12\n",
              "20            vitals   d1_sysbp_noninvasive_min  ...        120   12\n",
              "21  APACHE covariate          heart_rate_apache  ...         75   13\n",
              "22            vitals           d1_heartrate_max  ...         75   14\n",
              "23            vitals           d1_heartrate_min  ...         75   14\n",
              "24            vitals     h1_diasbp_invasive_max  ...         60   15\n",
              "25            vitals     h1_diasbp_invasive_min  ...         60   15\n",
              "26            vitals              h1_diasbp_max  ...         60   16\n",
              "27            vitals              h1_diasbp_min  ...         60   16\n",
              "28            vitals  h1_diasbp_noninvasive_max  ...         60   17\n",
              "29            vitals  h1_diasbp_noninvasive_min  ...         60   17\n",
              "30            vitals      h1_sysbp_invasive_max  ...        120   18\n",
              "31            vitals      h1_sysbp_invasive_min  ...        120   18\n",
              "32            vitals               h1_sysbp_max  ...        120   19\n",
              "33            vitals               h1_sysbp_min  ...        120   19\n",
              "34            vitals   h1_sysbp_noninvasive_max  ...        120   20\n",
              "35            vitals   h1_sysbp_noninvasive_min  ...        120   20\n",
              "36            vitals           h1_heartrate_max  ...         75   21\n",
              "37            vitals           h1_heartrate_min  ...         75   21\n",
              "38              labs             d1_albumin_max  ...         30   22\n",
              "39              labs             d1_albumin_min  ...         30   22\n",
              "40              labs             h1_lactate_max  ...          1   24\n",
              "41              labs             h1_lactate_min  ...          1   24\n",
              "42              labs             d1_lactate_max  ...          1   25\n",
              "43              labs             d1_lactate_min  ...          1   25\n",
              "44              labs           d1_bilirubin_max  ...         20   26\n",
              "45              labs           d1_bilirubin_min  ...         20   26\n",
              "46              labs             h1_albumin_max  ...         30   27\n",
              "47              labs             h1_albumin_min  ...         30   27\n",
              "48              labs           h1_bilirubin_max  ...         20   28\n",
              "49              labs           h1_bilirubin_min  ...         20   28\n",
              "\n",
              "[50 rows x 7 columns]"
            ]
          },
          "metadata": {
            "tags": []
          },
          "execution_count": 4
        }
      ]
    },
    {
      "cell_type": "code",
      "metadata": {
        "colab": {
          "base_uri": "https://localhost:8080/"
        },
        "id": "L0hMFPRUoDHz",
        "outputId": "2acc975d-1807-43b6-a486-3f02d5d749d6"
      },
      "source": [
        "con_fea = ['age','bmi','glucose_apache','h1_glucose_max','h1_glucose_min','d1_glucose_max','d1_glucose_min','d1_diasbp_invasive_max','d1_diasbp_invasive_min','d1_diasbp_max',\r\n",
        "           'd1_diasbp_min','d1_diasbp_noninvasive_max','d1_diasbp_noninvasive_min','d1_sysbp_invasive_max','d1_sysbp_invasive_min','d1_sysbp_max','d1_sysbp_min',\r\n",
        "           'd1_sysbp_noninvasive_max','d1_sysbp_noninvasive_min','heart_rate_apache','d1_heartrate_max','d1_heartrate_min','h1_diasbp_invasive_max','h1_diasbp_invasive_min',\r\n",
        "           'h1_diasbp_max','h1_diasbp_min','h1_diasbp_noninvasive_max','h1_diasbp_noninvasive_min','h1_sysbp_invasive_max','h1_sysbp_invasive_min','h1_sysbp_max',\r\n",
        "           'h1_sysbp_min','h1_sysbp_noninvasive_max','h1_sysbp_noninvasive_min','h1_heartrate_max','h1_heartrate_min','d1_albumin_max','d1_albumin_min',\r\n",
        "           'h1_lactate_max','h1_lactate_min','d1_lactate_max','d1_lactate_min','d1_bilirubin_max','d1_bilirubin_min','h1_albumin_max','h1_albumin_min',\r\n",
        "           'h1_bilirubin_max','h1_bilirubin_min','ethnicity_Asian','ethnicity_Caucasian','ethnicity_Hispanic','ethnicity_Native American','ethnicity_Other/Unknown',\r\n",
        "           'gender_M']\r\n",
        "\r\n",
        "remaining_fea = df.columns\r\n",
        "\r\n",
        "selected_fea = [col for col in con_fea if col in remaining_fea]\r\n",
        "selected_fea"
      ],
      "execution_count": null,
      "outputs": [
        {
          "output_type": "execute_result",
          "data": {
            "text/plain": [
              "['age',\n",
              " 'bmi',\n",
              " 'glucose_apache',\n",
              " 'h1_glucose_max',\n",
              " 'h1_glucose_min',\n",
              " 'd1_glucose_max',\n",
              " 'd1_glucose_min',\n",
              " 'd1_diasbp_invasive_max',\n",
              " 'd1_diasbp_invasive_min',\n",
              " 'd1_diasbp_max',\n",
              " 'd1_diasbp_min',\n",
              " 'd1_diasbp_noninvasive_max',\n",
              " 'd1_diasbp_noninvasive_min',\n",
              " 'd1_sysbp_invasive_max',\n",
              " 'd1_sysbp_invasive_min',\n",
              " 'd1_sysbp_max',\n",
              " 'd1_sysbp_min',\n",
              " 'd1_sysbp_noninvasive_max',\n",
              " 'd1_sysbp_noninvasive_min',\n",
              " 'heart_rate_apache',\n",
              " 'd1_heartrate_max',\n",
              " 'd1_heartrate_min',\n",
              " 'h1_diasbp_max',\n",
              " 'h1_diasbp_min',\n",
              " 'h1_diasbp_noninvasive_max',\n",
              " 'h1_diasbp_noninvasive_min',\n",
              " 'h1_sysbp_max',\n",
              " 'h1_sysbp_min',\n",
              " 'h1_sysbp_noninvasive_max',\n",
              " 'h1_sysbp_noninvasive_min',\n",
              " 'h1_heartrate_max',\n",
              " 'h1_heartrate_min',\n",
              " 'd1_albumin_max',\n",
              " 'd1_albumin_min',\n",
              " 'd1_lactate_max',\n",
              " 'd1_lactate_min',\n",
              " 'd1_bilirubin_max',\n",
              " 'd1_bilirubin_min',\n",
              " 'ethnicity_Asian',\n",
              " 'ethnicity_Caucasian',\n",
              " 'ethnicity_Hispanic',\n",
              " 'ethnicity_Native American',\n",
              " 'ethnicity_Other/Unknown',\n",
              " 'gender_M']"
            ]
          },
          "metadata": {
            "tags": []
          },
          "execution_count": 4
        }
      ]
    },
    {
      "cell_type": "code",
      "metadata": {
        "colab": {
          "base_uri": "https://localhost:8080/",
          "height": 273
        },
        "id": "ZYvxQ3VvpadD",
        "outputId": "b1d2ed44-860b-4306-e61d-a7bccafa8f12"
      },
      "source": [
        "df.head()"
      ],
      "execution_count": null,
      "outputs": [
        {
          "output_type": "execute_result",
          "data": {
            "text/html": [
              "<div>\n",
              "<style scoped>\n",
              "    .dataframe tbody tr th:only-of-type {\n",
              "        vertical-align: middle;\n",
              "    }\n",
              "\n",
              "    .dataframe tbody tr th {\n",
              "        vertical-align: top;\n",
              "    }\n",
              "\n",
              "    .dataframe thead th {\n",
              "        text-align: right;\n",
              "    }\n",
              "</style>\n",
              "<table border=\"1\" class=\"dataframe\">\n",
              "  <thead>\n",
              "    <tr style=\"text-align: right;\">\n",
              "      <th></th>\n",
              "      <th>Unnamed: 0</th>\n",
              "      <th>age</th>\n",
              "      <th>bmi</th>\n",
              "      <th>elective_surgery</th>\n",
              "      <th>height</th>\n",
              "      <th>pre_icu_los_days</th>\n",
              "      <th>readmission_status</th>\n",
              "      <th>weight</th>\n",
              "      <th>albumin_apache</th>\n",
              "      <th>apache_2_diagnosis</th>\n",
              "      <th>apache_3j_diagnosis</th>\n",
              "      <th>apache_post_operative</th>\n",
              "      <th>arf_apache</th>\n",
              "      <th>bilirubin_apache</th>\n",
              "      <th>bun_apache</th>\n",
              "      <th>creatinine_apache</th>\n",
              "      <th>fio2_apache</th>\n",
              "      <th>gcs_eyes_apache</th>\n",
              "      <th>gcs_motor_apache</th>\n",
              "      <th>gcs_unable_apache</th>\n",
              "      <th>gcs_verbal_apache</th>\n",
              "      <th>glucose_apache</th>\n",
              "      <th>heart_rate_apache</th>\n",
              "      <th>hematocrit_apache</th>\n",
              "      <th>intubated_apache</th>\n",
              "      <th>map_apache</th>\n",
              "      <th>paco2_apache</th>\n",
              "      <th>paco2_for_ph_apache</th>\n",
              "      <th>pao2_apache</th>\n",
              "      <th>ph_apache</th>\n",
              "      <th>resprate_apache</th>\n",
              "      <th>sodium_apache</th>\n",
              "      <th>temp_apache</th>\n",
              "      <th>urineoutput_apache</th>\n",
              "      <th>ventilated_apache</th>\n",
              "      <th>wbc_apache</th>\n",
              "      <th>d1_diasbp_invasive_max</th>\n",
              "      <th>d1_diasbp_invasive_min</th>\n",
              "      <th>d1_diasbp_max</th>\n",
              "      <th>d1_diasbp_min</th>\n",
              "      <th>...</th>\n",
              "      <th>cirrhosis</th>\n",
              "      <th>hepatic_failure</th>\n",
              "      <th>immunosuppression</th>\n",
              "      <th>leukemia</th>\n",
              "      <th>lymphoma</th>\n",
              "      <th>solid_tumor_with_metastasis</th>\n",
              "      <th>ethnicity_Asian</th>\n",
              "      <th>ethnicity_Caucasian</th>\n",
              "      <th>ethnicity_Hispanic</th>\n",
              "      <th>ethnicity_Native American</th>\n",
              "      <th>ethnicity_Other/Unknown</th>\n",
              "      <th>gender_M</th>\n",
              "      <th>hospital_admit_source_Chest Pain Center</th>\n",
              "      <th>hospital_admit_source_Direct Admit</th>\n",
              "      <th>hospital_admit_source_Emergency Department</th>\n",
              "      <th>hospital_admit_source_Floor</th>\n",
              "      <th>hospital_admit_source_ICU</th>\n",
              "      <th>hospital_admit_source_ICU to SDU</th>\n",
              "      <th>hospital_admit_source_Observation</th>\n",
              "      <th>hospital_admit_source_Operating Room</th>\n",
              "      <th>hospital_admit_source_Other</th>\n",
              "      <th>hospital_admit_source_Other Hospital</th>\n",
              "      <th>hospital_admit_source_Other ICU</th>\n",
              "      <th>hospital_admit_source_PACU</th>\n",
              "      <th>hospital_admit_source_Recovery Room</th>\n",
              "      <th>hospital_admit_source_Step-Down Unit (SDU)</th>\n",
              "      <th>icu_admit_source_Floor</th>\n",
              "      <th>icu_admit_source_Operating Room / Recovery</th>\n",
              "      <th>icu_admit_source_Other Hospital</th>\n",
              "      <th>icu_admit_source_Other ICU</th>\n",
              "      <th>icu_stay_type_readmit</th>\n",
              "      <th>icu_stay_type_transfer</th>\n",
              "      <th>icu_type_CSICU</th>\n",
              "      <th>icu_type_CTICU</th>\n",
              "      <th>icu_type_Cardiac ICU</th>\n",
              "      <th>icu_type_MICU</th>\n",
              "      <th>icu_type_Med-Surg ICU</th>\n",
              "      <th>icu_type_Neuro ICU</th>\n",
              "      <th>icu_type_SICU</th>\n",
              "      <th>diabetes_mellitus</th>\n",
              "    </tr>\n",
              "  </thead>\n",
              "  <tbody>\n",
              "    <tr>\n",
              "      <th>0</th>\n",
              "      <td>0</td>\n",
              "      <td>68.0</td>\n",
              "      <td>22.732803</td>\n",
              "      <td>0</td>\n",
              "      <td>180.3</td>\n",
              "      <td>0.541667</td>\n",
              "      <td>0</td>\n",
              "      <td>73.9</td>\n",
              "      <td>2.300000</td>\n",
              "      <td>113.0</td>\n",
              "      <td>502.01</td>\n",
              "      <td>0</td>\n",
              "      <td>0</td>\n",
              "      <td>0.400000</td>\n",
              "      <td>31.000000</td>\n",
              "      <td>2.510000</td>\n",
              "      <td>0.608874</td>\n",
              "      <td>3.0</td>\n",
              "      <td>6.0</td>\n",
              "      <td>0.0</td>\n",
              "      <td>4.0</td>\n",
              "      <td>168.00000</td>\n",
              "      <td>118.0</td>\n",
              "      <td>27.400000</td>\n",
              "      <td>0</td>\n",
              "      <td>40.0</td>\n",
              "      <td>42.503378</td>\n",
              "      <td>42.503378</td>\n",
              "      <td>130.126947</td>\n",
              "      <td>7.352285</td>\n",
              "      <td>36.0</td>\n",
              "      <td>134.000000</td>\n",
              "      <td>39.3</td>\n",
              "      <td>1880.975174</td>\n",
              "      <td>0</td>\n",
              "      <td>14.100000</td>\n",
              "      <td>46.000000</td>\n",
              "      <td>32.000000</td>\n",
              "      <td>68.0</td>\n",
              "      <td>37.0</td>\n",
              "      <td>...</td>\n",
              "      <td>0</td>\n",
              "      <td>0</td>\n",
              "      <td>0</td>\n",
              "      <td>0</td>\n",
              "      <td>0</td>\n",
              "      <td>0</td>\n",
              "      <td>0</td>\n",
              "      <td>1</td>\n",
              "      <td>0</td>\n",
              "      <td>0</td>\n",
              "      <td>0</td>\n",
              "      <td>1</td>\n",
              "      <td>0</td>\n",
              "      <td>0</td>\n",
              "      <td>0</td>\n",
              "      <td>1</td>\n",
              "      <td>0</td>\n",
              "      <td>0</td>\n",
              "      <td>0</td>\n",
              "      <td>0</td>\n",
              "      <td>0</td>\n",
              "      <td>0</td>\n",
              "      <td>0</td>\n",
              "      <td>0</td>\n",
              "      <td>0</td>\n",
              "      <td>0</td>\n",
              "      <td>1</td>\n",
              "      <td>0</td>\n",
              "      <td>0</td>\n",
              "      <td>0</td>\n",
              "      <td>0</td>\n",
              "      <td>0</td>\n",
              "      <td>0</td>\n",
              "      <td>1</td>\n",
              "      <td>0</td>\n",
              "      <td>0</td>\n",
              "      <td>0</td>\n",
              "      <td>0</td>\n",
              "      <td>0</td>\n",
              "      <td>1.0</td>\n",
              "    </tr>\n",
              "    <tr>\n",
              "      <th>1</th>\n",
              "      <td>1</td>\n",
              "      <td>77.0</td>\n",
              "      <td>27.421875</td>\n",
              "      <td>0</td>\n",
              "      <td>160.0</td>\n",
              "      <td>0.927778</td>\n",
              "      <td>0</td>\n",
              "      <td>70.2</td>\n",
              "      <td>2.842762</td>\n",
              "      <td>108.0</td>\n",
              "      <td>203.01</td>\n",
              "      <td>0</td>\n",
              "      <td>0</td>\n",
              "      <td>1.012062</td>\n",
              "      <td>9.000000</td>\n",
              "      <td>0.560000</td>\n",
              "      <td>1.000000</td>\n",
              "      <td>1.0</td>\n",
              "      <td>3.0</td>\n",
              "      <td>0.0</td>\n",
              "      <td>1.0</td>\n",
              "      <td>145.00000</td>\n",
              "      <td>120.0</td>\n",
              "      <td>36.900000</td>\n",
              "      <td>0</td>\n",
              "      <td>46.0</td>\n",
              "      <td>37.000000</td>\n",
              "      <td>37.000000</td>\n",
              "      <td>51.000000</td>\n",
              "      <td>7.450000</td>\n",
              "      <td>33.0</td>\n",
              "      <td>145.000000</td>\n",
              "      <td>35.1</td>\n",
              "      <td>1681.810832</td>\n",
              "      <td>1</td>\n",
              "      <td>12.700000</td>\n",
              "      <td>79.773308</td>\n",
              "      <td>46.013596</td>\n",
              "      <td>95.0</td>\n",
              "      <td>31.0</td>\n",
              "      <td>...</td>\n",
              "      <td>0</td>\n",
              "      <td>0</td>\n",
              "      <td>0</td>\n",
              "      <td>0</td>\n",
              "      <td>0</td>\n",
              "      <td>0</td>\n",
              "      <td>0</td>\n",
              "      <td>1</td>\n",
              "      <td>0</td>\n",
              "      <td>0</td>\n",
              "      <td>0</td>\n",
              "      <td>0</td>\n",
              "      <td>0</td>\n",
              "      <td>0</td>\n",
              "      <td>0</td>\n",
              "      <td>1</td>\n",
              "      <td>0</td>\n",
              "      <td>0</td>\n",
              "      <td>0</td>\n",
              "      <td>0</td>\n",
              "      <td>0</td>\n",
              "      <td>0</td>\n",
              "      <td>0</td>\n",
              "      <td>0</td>\n",
              "      <td>0</td>\n",
              "      <td>0</td>\n",
              "      <td>1</td>\n",
              "      <td>0</td>\n",
              "      <td>0</td>\n",
              "      <td>0</td>\n",
              "      <td>0</td>\n",
              "      <td>0</td>\n",
              "      <td>0</td>\n",
              "      <td>0</td>\n",
              "      <td>0</td>\n",
              "      <td>0</td>\n",
              "      <td>1</td>\n",
              "      <td>0</td>\n",
              "      <td>0</td>\n",
              "      <td>1.0</td>\n",
              "    </tr>\n",
              "    <tr>\n",
              "      <th>2</th>\n",
              "      <td>2</td>\n",
              "      <td>25.0</td>\n",
              "      <td>31.952749</td>\n",
              "      <td>0</td>\n",
              "      <td>172.7</td>\n",
              "      <td>0.000694</td>\n",
              "      <td>0</td>\n",
              "      <td>95.3</td>\n",
              "      <td>2.842762</td>\n",
              "      <td>122.0</td>\n",
              "      <td>703.03</td>\n",
              "      <td>0</td>\n",
              "      <td>0</td>\n",
              "      <td>1.012062</td>\n",
              "      <td>24.040124</td>\n",
              "      <td>1.240601</td>\n",
              "      <td>0.581356</td>\n",
              "      <td>3.0</td>\n",
              "      <td>6.0</td>\n",
              "      <td>0.0</td>\n",
              "      <td>5.0</td>\n",
              "      <td>159.31134</td>\n",
              "      <td>102.0</td>\n",
              "      <td>32.152284</td>\n",
              "      <td>0</td>\n",
              "      <td>68.0</td>\n",
              "      <td>42.335091</td>\n",
              "      <td>42.335091</td>\n",
              "      <td>131.026038</td>\n",
              "      <td>7.351192</td>\n",
              "      <td>37.0</td>\n",
              "      <td>138.004869</td>\n",
              "      <td>36.7</td>\n",
              "      <td>1681.810832</td>\n",
              "      <td>0</td>\n",
              "      <td>12.337758</td>\n",
              "      <td>79.773308</td>\n",
              "      <td>46.013596</td>\n",
              "      <td>88.0</td>\n",
              "      <td>48.0</td>\n",
              "      <td>...</td>\n",
              "      <td>0</td>\n",
              "      <td>0</td>\n",
              "      <td>0</td>\n",
              "      <td>0</td>\n",
              "      <td>0</td>\n",
              "      <td>0</td>\n",
              "      <td>0</td>\n",
              "      <td>1</td>\n",
              "      <td>0</td>\n",
              "      <td>0</td>\n",
              "      <td>0</td>\n",
              "      <td>0</td>\n",
              "      <td>0</td>\n",
              "      <td>0</td>\n",
              "      <td>1</td>\n",
              "      <td>0</td>\n",
              "      <td>0</td>\n",
              "      <td>0</td>\n",
              "      <td>0</td>\n",
              "      <td>0</td>\n",
              "      <td>0</td>\n",
              "      <td>0</td>\n",
              "      <td>0</td>\n",
              "      <td>0</td>\n",
              "      <td>0</td>\n",
              "      <td>0</td>\n",
              "      <td>0</td>\n",
              "      <td>0</td>\n",
              "      <td>0</td>\n",
              "      <td>0</td>\n",
              "      <td>0</td>\n",
              "      <td>0</td>\n",
              "      <td>0</td>\n",
              "      <td>0</td>\n",
              "      <td>0</td>\n",
              "      <td>0</td>\n",
              "      <td>1</td>\n",
              "      <td>0</td>\n",
              "      <td>0</td>\n",
              "      <td>0.0</td>\n",
              "    </tr>\n",
              "    <tr>\n",
              "      <th>3</th>\n",
              "      <td>3</td>\n",
              "      <td>81.0</td>\n",
              "      <td>22.635548</td>\n",
              "      <td>1</td>\n",
              "      <td>165.1</td>\n",
              "      <td>0.000694</td>\n",
              "      <td>0</td>\n",
              "      <td>61.7</td>\n",
              "      <td>2.842762</td>\n",
              "      <td>203.0</td>\n",
              "      <td>1206.03</td>\n",
              "      <td>1</td>\n",
              "      <td>0</td>\n",
              "      <td>1.012062</td>\n",
              "      <td>24.040124</td>\n",
              "      <td>1.240601</td>\n",
              "      <td>0.600000</td>\n",
              "      <td>4.0</td>\n",
              "      <td>6.0</td>\n",
              "      <td>0.0</td>\n",
              "      <td>5.0</td>\n",
              "      <td>185.00000</td>\n",
              "      <td>114.0</td>\n",
              "      <td>25.900000</td>\n",
              "      <td>1</td>\n",
              "      <td>60.0</td>\n",
              "      <td>30.000000</td>\n",
              "      <td>30.000000</td>\n",
              "      <td>142.000000</td>\n",
              "      <td>7.390000</td>\n",
              "      <td>4.0</td>\n",
              "      <td>138.004869</td>\n",
              "      <td>34.8</td>\n",
              "      <td>1681.810832</td>\n",
              "      <td>1</td>\n",
              "      <td>8.000000</td>\n",
              "      <td>62.000000</td>\n",
              "      <td>30.000000</td>\n",
              "      <td>48.0</td>\n",
              "      <td>42.0</td>\n",
              "      <td>...</td>\n",
              "      <td>0</td>\n",
              "      <td>0</td>\n",
              "      <td>0</td>\n",
              "      <td>0</td>\n",
              "      <td>0</td>\n",
              "      <td>0</td>\n",
              "      <td>0</td>\n",
              "      <td>1</td>\n",
              "      <td>0</td>\n",
              "      <td>0</td>\n",
              "      <td>0</td>\n",
              "      <td>0</td>\n",
              "      <td>0</td>\n",
              "      <td>0</td>\n",
              "      <td>0</td>\n",
              "      <td>0</td>\n",
              "      <td>0</td>\n",
              "      <td>0</td>\n",
              "      <td>0</td>\n",
              "      <td>1</td>\n",
              "      <td>0</td>\n",
              "      <td>0</td>\n",
              "      <td>0</td>\n",
              "      <td>0</td>\n",
              "      <td>0</td>\n",
              "      <td>0</td>\n",
              "      <td>0</td>\n",
              "      <td>1</td>\n",
              "      <td>0</td>\n",
              "      <td>0</td>\n",
              "      <td>0</td>\n",
              "      <td>0</td>\n",
              "      <td>0</td>\n",
              "      <td>1</td>\n",
              "      <td>0</td>\n",
              "      <td>0</td>\n",
              "      <td>0</td>\n",
              "      <td>0</td>\n",
              "      <td>0</td>\n",
              "      <td>0.0</td>\n",
              "    </tr>\n",
              "    <tr>\n",
              "      <th>4</th>\n",
              "      <td>4</td>\n",
              "      <td>67.0</td>\n",
              "      <td>27.555611</td>\n",
              "      <td>0</td>\n",
              "      <td>190.5</td>\n",
              "      <td>0.000694</td>\n",
              "      <td>0</td>\n",
              "      <td>100.0</td>\n",
              "      <td>2.932497</td>\n",
              "      <td>301.0</td>\n",
              "      <td>403.01</td>\n",
              "      <td>0</td>\n",
              "      <td>0</td>\n",
              "      <td>1.295918</td>\n",
              "      <td>13.000000</td>\n",
              "      <td>0.710000</td>\n",
              "      <td>0.608874</td>\n",
              "      <td>4.0</td>\n",
              "      <td>6.0</td>\n",
              "      <td>0.0</td>\n",
              "      <td>5.0</td>\n",
              "      <td>156.00000</td>\n",
              "      <td>113.0</td>\n",
              "      <td>44.200000</td>\n",
              "      <td>0</td>\n",
              "      <td>130.0</td>\n",
              "      <td>42.503378</td>\n",
              "      <td>42.503378</td>\n",
              "      <td>130.126947</td>\n",
              "      <td>7.352285</td>\n",
              "      <td>35.0</td>\n",
              "      <td>137.000000</td>\n",
              "      <td>36.6</td>\n",
              "      <td>1880.975174</td>\n",
              "      <td>0</td>\n",
              "      <td>10.900000</td>\n",
              "      <td>78.179184</td>\n",
              "      <td>46.954389</td>\n",
              "      <td>100.0</td>\n",
              "      <td>61.0</td>\n",
              "      <td>...</td>\n",
              "      <td>0</td>\n",
              "      <td>0</td>\n",
              "      <td>0</td>\n",
              "      <td>0</td>\n",
              "      <td>0</td>\n",
              "      <td>0</td>\n",
              "      <td>0</td>\n",
              "      <td>1</td>\n",
              "      <td>0</td>\n",
              "      <td>0</td>\n",
              "      <td>0</td>\n",
              "      <td>1</td>\n",
              "      <td>0</td>\n",
              "      <td>1</td>\n",
              "      <td>0</td>\n",
              "      <td>0</td>\n",
              "      <td>0</td>\n",
              "      <td>0</td>\n",
              "      <td>0</td>\n",
              "      <td>0</td>\n",
              "      <td>0</td>\n",
              "      <td>0</td>\n",
              "      <td>0</td>\n",
              "      <td>0</td>\n",
              "      <td>0</td>\n",
              "      <td>0</td>\n",
              "      <td>0</td>\n",
              "      <td>0</td>\n",
              "      <td>0</td>\n",
              "      <td>0</td>\n",
              "      <td>0</td>\n",
              "      <td>0</td>\n",
              "      <td>0</td>\n",
              "      <td>0</td>\n",
              "      <td>0</td>\n",
              "      <td>0</td>\n",
              "      <td>1</td>\n",
              "      <td>0</td>\n",
              "      <td>0</td>\n",
              "      <td>1.0</td>\n",
              "    </tr>\n",
              "  </tbody>\n",
              "</table>\n",
              "<p>5 rows × 173 columns</p>\n",
              "</div>"
            ],
            "text/plain": [
              "   Unnamed: 0   age  ...  icu_type_SICU  diabetes_mellitus\n",
              "0           0  68.0  ...              0                1.0\n",
              "1           1  77.0  ...              0                1.0\n",
              "2           2  25.0  ...              0                0.0\n",
              "3           3  81.0  ...              0                0.0\n",
              "4           4  67.0  ...              0                1.0\n",
              "\n",
              "[5 rows x 173 columns]"
            ]
          },
          "metadata": {
            "tags": []
          },
          "execution_count": 5
        }
      ]
    },
    {
      "cell_type": "code",
      "metadata": {
        "id": "6wI5og_P1oTx"
      },
      "source": [
        " \r\n",
        "X_train, X_test, y_train, y_test = train_test_split(X, y, test_size=0.20, random_state=1, stratify=y)"
      ],
      "execution_count": null,
      "outputs": []
    },
    {
      "cell_type": "markdown",
      "metadata": {
        "id": "2oWG7hoc1vX-"
      },
      "source": [
        "# Building models applying Stratified Split!!!"
      ]
    },
    {
      "cell_type": "code",
      "metadata": {
        "id": "GXYplZHgs-Mo"
      },
      "source": [
        "y = df.iloc[:,-1]"
      ],
      "execution_count": null,
      "outputs": []
    },
    {
      "cell_type": "code",
      "metadata": {
        "id": "dxG1pNleIYLC"
      },
      "source": [
        "X = df.loc[:, selected_fea]"
      ],
      "execution_count": null,
      "outputs": []
    },
    {
      "cell_type": "code",
      "metadata": {
        "colab": {
          "base_uri": "https://localhost:8080/"
        },
        "id": "OlZmO4HeH3n0",
        "outputId": "5fb23979-1aee-4930-fa5c-fa46ed2708c5"
      },
      "source": [
        "y.head()"
      ],
      "execution_count": null,
      "outputs": [
        {
          "output_type": "execute_result",
          "data": {
            "text/plain": [
              "0    1.0\n",
              "1    1.0\n",
              "2    0.0\n",
              "3    0.0\n",
              "4    1.0\n",
              "Name: diabetes_mellitus, dtype: float64"
            ]
          },
          "metadata": {
            "tags": []
          },
          "execution_count": 10
        }
      ]
    },
    {
      "cell_type": "code",
      "metadata": {
        "colab": {
          "base_uri": "https://localhost:8080/",
          "height": 243
        },
        "id": "Jwrce4vcJ9pg",
        "outputId": "f6293719-0266-4b04-9f30-ea6e2e22df9f"
      },
      "source": [
        "X.head()"
      ],
      "execution_count": null,
      "outputs": [
        {
          "output_type": "execute_result",
          "data": {
            "text/html": [
              "<div>\n",
              "<style scoped>\n",
              "    .dataframe tbody tr th:only-of-type {\n",
              "        vertical-align: middle;\n",
              "    }\n",
              "\n",
              "    .dataframe tbody tr th {\n",
              "        vertical-align: top;\n",
              "    }\n",
              "\n",
              "    .dataframe thead th {\n",
              "        text-align: right;\n",
              "    }\n",
              "</style>\n",
              "<table border=\"1\" class=\"dataframe\">\n",
              "  <thead>\n",
              "    <tr style=\"text-align: right;\">\n",
              "      <th></th>\n",
              "      <th>glucose_apache</th>\n",
              "      <th>h1_glucose_max</th>\n",
              "      <th>h1_glucose_min</th>\n",
              "      <th>d1_glucose_max</th>\n",
              "      <th>d1_glucose_min</th>\n",
              "      <th>d1_diasbp_invasive_max</th>\n",
              "      <th>d1_diasbp_invasive_min</th>\n",
              "      <th>d1_diasbp_max</th>\n",
              "      <th>d1_diasbp_min</th>\n",
              "      <th>d1_diasbp_noninvasive_max</th>\n",
              "      <th>d1_diasbp_noninvasive_min</th>\n",
              "      <th>d1_sysbp_invasive_max</th>\n",
              "      <th>d1_sysbp_invasive_min</th>\n",
              "      <th>d1_sysbp_max</th>\n",
              "      <th>d1_sysbp_min</th>\n",
              "      <th>d1_sysbp_noninvasive_max</th>\n",
              "      <th>d1_sysbp_noninvasive_min</th>\n",
              "      <th>heart_rate_apache</th>\n",
              "      <th>d1_heartrate_max</th>\n",
              "      <th>d1_heartrate_min</th>\n",
              "      <th>h1_diasbp_max</th>\n",
              "      <th>h1_diasbp_min</th>\n",
              "      <th>h1_diasbp_noninvasive_max</th>\n",
              "      <th>h1_diasbp_noninvasive_min</th>\n",
              "      <th>h1_sysbp_max</th>\n",
              "      <th>h1_sysbp_min</th>\n",
              "      <th>h1_sysbp_noninvasive_max</th>\n",
              "      <th>h1_sysbp_noninvasive_min</th>\n",
              "      <th>h1_heartrate_max</th>\n",
              "      <th>h1_heartrate_min</th>\n",
              "      <th>d1_albumin_max</th>\n",
              "      <th>d1_albumin_min</th>\n",
              "      <th>d1_lactate_max</th>\n",
              "      <th>d1_lactate_min</th>\n",
              "      <th>d1_bilirubin_max</th>\n",
              "      <th>d1_bilirubin_min</th>\n",
              "      <th>ethnicity_Asian</th>\n",
              "      <th>ethnicity_Caucasian</th>\n",
              "      <th>ethnicity_Hispanic</th>\n",
              "      <th>ethnicity_Native American</th>\n",
              "      <th>ethnicity_Other/Unknown</th>\n",
              "      <th>gender_M</th>\n",
              "    </tr>\n",
              "  </thead>\n",
              "  <tbody>\n",
              "    <tr>\n",
              "      <th>0</th>\n",
              "      <td>168.00000</td>\n",
              "      <td>164.830653</td>\n",
              "      <td>156.400769</td>\n",
              "      <td>168.000000</td>\n",
              "      <td>109.000000</td>\n",
              "      <td>46.000000</td>\n",
              "      <td>32.000000</td>\n",
              "      <td>68.0</td>\n",
              "      <td>37.0</td>\n",
              "      <td>68.0</td>\n",
              "      <td>37.0</td>\n",
              "      <td>122.000000</td>\n",
              "      <td>64.000000</td>\n",
              "      <td>131.0</td>\n",
              "      <td>73.0</td>\n",
              "      <td>131.0</td>\n",
              "      <td>73.0</td>\n",
              "      <td>118.0</td>\n",
              "      <td>119.0</td>\n",
              "      <td>72.0</td>\n",
              "      <td>68.0</td>\n",
              "      <td>63.0</td>\n",
              "      <td>68.000000</td>\n",
              "      <td>63.000000</td>\n",
              "      <td>131.0</td>\n",
              "      <td>115.0</td>\n",
              "      <td>131.000000</td>\n",
              "      <td>115.000000</td>\n",
              "      <td>119.0</td>\n",
              "      <td>108.0</td>\n",
              "      <td>2.300000</td>\n",
              "      <td>2.300000</td>\n",
              "      <td>1.300000</td>\n",
              "      <td>1.000000</td>\n",
              "      <td>0.400000</td>\n",
              "      <td>0.400000</td>\n",
              "      <td>0</td>\n",
              "      <td>1</td>\n",
              "      <td>0</td>\n",
              "      <td>0</td>\n",
              "      <td>0</td>\n",
              "      <td>1</td>\n",
              "    </tr>\n",
              "    <tr>\n",
              "      <th>1</th>\n",
              "      <td>145.00000</td>\n",
              "      <td>145.000000</td>\n",
              "      <td>143.000000</td>\n",
              "      <td>145.000000</td>\n",
              "      <td>128.000000</td>\n",
              "      <td>79.773308</td>\n",
              "      <td>46.013596</td>\n",
              "      <td>95.0</td>\n",
              "      <td>31.0</td>\n",
              "      <td>95.0</td>\n",
              "      <td>31.0</td>\n",
              "      <td>153.067895</td>\n",
              "      <td>92.752244</td>\n",
              "      <td>159.0</td>\n",
              "      <td>67.0</td>\n",
              "      <td>159.0</td>\n",
              "      <td>67.0</td>\n",
              "      <td>120.0</td>\n",
              "      <td>118.0</td>\n",
              "      <td>72.0</td>\n",
              "      <td>61.0</td>\n",
              "      <td>48.0</td>\n",
              "      <td>61.000000</td>\n",
              "      <td>48.000000</td>\n",
              "      <td>95.0</td>\n",
              "      <td>71.0</td>\n",
              "      <td>95.000000</td>\n",
              "      <td>71.000000</td>\n",
              "      <td>114.0</td>\n",
              "      <td>100.0</td>\n",
              "      <td>1.600000</td>\n",
              "      <td>1.600000</td>\n",
              "      <td>3.500000</td>\n",
              "      <td>3.500000</td>\n",
              "      <td>0.500000</td>\n",
              "      <td>0.500000</td>\n",
              "      <td>0</td>\n",
              "      <td>1</td>\n",
              "      <td>0</td>\n",
              "      <td>0</td>\n",
              "      <td>0</td>\n",
              "      <td>0</td>\n",
              "    </tr>\n",
              "    <tr>\n",
              "      <th>2</th>\n",
              "      <td>159.31134</td>\n",
              "      <td>167.721828</td>\n",
              "      <td>159.128092</td>\n",
              "      <td>172.667436</td>\n",
              "      <td>114.567355</td>\n",
              "      <td>79.773308</td>\n",
              "      <td>46.013596</td>\n",
              "      <td>88.0</td>\n",
              "      <td>48.0</td>\n",
              "      <td>88.0</td>\n",
              "      <td>48.0</td>\n",
              "      <td>153.067895</td>\n",
              "      <td>92.752244</td>\n",
              "      <td>148.0</td>\n",
              "      <td>105.0</td>\n",
              "      <td>148.0</td>\n",
              "      <td>105.0</td>\n",
              "      <td>102.0</td>\n",
              "      <td>96.0</td>\n",
              "      <td>68.0</td>\n",
              "      <td>88.0</td>\n",
              "      <td>58.0</td>\n",
              "      <td>88.000000</td>\n",
              "      <td>58.000000</td>\n",
              "      <td>148.0</td>\n",
              "      <td>124.0</td>\n",
              "      <td>148.000000</td>\n",
              "      <td>124.000000</td>\n",
              "      <td>96.0</td>\n",
              "      <td>78.0</td>\n",
              "      <td>2.907929</td>\n",
              "      <td>2.839910</td>\n",
              "      <td>2.836248</td>\n",
              "      <td>2.026176</td>\n",
              "      <td>1.013703</td>\n",
              "      <td>0.949435</td>\n",
              "      <td>0</td>\n",
              "      <td>1</td>\n",
              "      <td>0</td>\n",
              "      <td>0</td>\n",
              "      <td>0</td>\n",
              "      <td>0</td>\n",
              "    </tr>\n",
              "    <tr>\n",
              "      <th>3</th>\n",
              "      <td>185.00000</td>\n",
              "      <td>167.721828</td>\n",
              "      <td>159.128092</td>\n",
              "      <td>185.000000</td>\n",
              "      <td>88.000000</td>\n",
              "      <td>62.000000</td>\n",
              "      <td>30.000000</td>\n",
              "      <td>48.0</td>\n",
              "      <td>42.0</td>\n",
              "      <td>48.0</td>\n",
              "      <td>42.0</td>\n",
              "      <td>164.000000</td>\n",
              "      <td>78.000000</td>\n",
              "      <td>158.0</td>\n",
              "      <td>84.0</td>\n",
              "      <td>158.0</td>\n",
              "      <td>84.0</td>\n",
              "      <td>114.0</td>\n",
              "      <td>116.0</td>\n",
              "      <td>92.0</td>\n",
              "      <td>62.0</td>\n",
              "      <td>44.0</td>\n",
              "      <td>73.998018</td>\n",
              "      <td>60.032033</td>\n",
              "      <td>136.0</td>\n",
              "      <td>106.0</td>\n",
              "      <td>132.286834</td>\n",
              "      <td>114.660925</td>\n",
              "      <td>100.0</td>\n",
              "      <td>96.0</td>\n",
              "      <td>2.907929</td>\n",
              "      <td>2.839910</td>\n",
              "      <td>2.836248</td>\n",
              "      <td>2.026176</td>\n",
              "      <td>1.013703</td>\n",
              "      <td>0.949435</td>\n",
              "      <td>0</td>\n",
              "      <td>1</td>\n",
              "      <td>0</td>\n",
              "      <td>0</td>\n",
              "      <td>0</td>\n",
              "      <td>0</td>\n",
              "    </tr>\n",
              "    <tr>\n",
              "      <th>4</th>\n",
              "      <td>156.00000</td>\n",
              "      <td>164.830653</td>\n",
              "      <td>156.400769</td>\n",
              "      <td>156.000000</td>\n",
              "      <td>125.000000</td>\n",
              "      <td>78.179184</td>\n",
              "      <td>46.954389</td>\n",
              "      <td>100.0</td>\n",
              "      <td>61.0</td>\n",
              "      <td>100.0</td>\n",
              "      <td>61.0</td>\n",
              "      <td>152.420693</td>\n",
              "      <td>93.640280</td>\n",
              "      <td>173.0</td>\n",
              "      <td>107.0</td>\n",
              "      <td>173.0</td>\n",
              "      <td>107.0</td>\n",
              "      <td>113.0</td>\n",
              "      <td>113.0</td>\n",
              "      <td>83.0</td>\n",
              "      <td>89.0</td>\n",
              "      <td>89.0</td>\n",
              "      <td>89.000000</td>\n",
              "      <td>89.000000</td>\n",
              "      <td>143.0</td>\n",
              "      <td>143.0</td>\n",
              "      <td>143.000000</td>\n",
              "      <td>143.000000</td>\n",
              "      <td>83.0</td>\n",
              "      <td>83.0</td>\n",
              "      <td>2.998558</td>\n",
              "      <td>2.927553</td>\n",
              "      <td>2.871167</td>\n",
              "      <td>2.049455</td>\n",
              "      <td>1.283528</td>\n",
              "      <td>1.204542</td>\n",
              "      <td>0</td>\n",
              "      <td>1</td>\n",
              "      <td>0</td>\n",
              "      <td>0</td>\n",
              "      <td>0</td>\n",
              "      <td>1</td>\n",
              "    </tr>\n",
              "  </tbody>\n",
              "</table>\n",
              "</div>"
            ],
            "text/plain": [
              "   glucose_apache  h1_glucose_max  ...  ethnicity_Other/Unknown  gender_M\n",
              "0       168.00000      164.830653  ...                        0         1\n",
              "1       145.00000      145.000000  ...                        0         0\n",
              "2       159.31134      167.721828  ...                        0         0\n",
              "3       185.00000      167.721828  ...                        0         0\n",
              "4       156.00000      164.830653  ...                        0         1\n",
              "\n",
              "[5 rows x 42 columns]"
            ]
          },
          "metadata": {
            "tags": []
          },
          "execution_count": 18
        }
      ]
    },
    {
      "cell_type": "code",
      "metadata": {
        "colab": {
          "base_uri": "https://localhost:8080/"
        },
        "id": "m-4XRwZGKIaU",
        "outputId": "a4783531-3914-47a5-f334-2ac1156fe43c"
      },
      "source": [
        "y.value_counts()"
      ],
      "execution_count": null,
      "outputs": [
        {
          "output_type": "execute_result",
          "data": {
            "text/plain": [
              "0.0    100699\n",
              "1.0     27958\n",
              "Name: diabetes_mellitus, dtype: int64"
            ]
          },
          "metadata": {
            "tags": []
          },
          "execution_count": 24
        }
      ]
    },
    {
      "cell_type": "code",
      "metadata": {
        "colab": {
          "base_uri": "https://localhost:8080/"
        },
        "id": "MBqUUQxYLTjG",
        "outputId": "3d4212be-0393-4ca6-e9bc-5cc3bfe5776d"
      },
      "source": [
        "# split imbalanced dataset into train and test sets with stratification\r\n",
        "from collections import Counter\r\n",
        "from sklearn.datasets import make_classification\r\n",
        "from sklearn.model_selection import train_test_split\r\n",
        "# create dataset\r\n",
        "print(Counter(y))\r\n",
        "# split into train test sets\r\n",
        "X_train, X_test, y_train, y_test = train_test_split(X, y, test_size=0.20, random_state=1, stratify=y)\r\n",
        "print(Counter(y_train))\r\n",
        "print(Counter(y_test))"
      ],
      "execution_count": null,
      "outputs": [
        {
          "output_type": "stream",
          "text": [
            "Counter({0.0: 100699, 1.0: 27958})\n",
            "Counter({0.0: 80559, 1.0: 22366})\n",
            "Counter({0.0: 20140, 1.0: 5592})\n"
          ],
          "name": "stdout"
        }
      ]
    },
    {
      "cell_type": "code",
      "metadata": {
        "id": "xDx5SDm1NxV-"
      },
      "source": [
        "from sklearn.linear_model import LogisticRegression\r\n",
        "from sklearn.ensemble import RandomForestClassifier\r\n",
        "from xgboost import XGBClassifier\r\n",
        "from sklearn.neighbors import KNeighborsClassifier\r\n",
        "from sklearn.model_selection import StratifiedKFold\r\n",
        "from imblearn.over_sampling import RandomOverSampler\r\n",
        "from imblearn.under_sampling import RandomUnderSampler\r\n"
      ],
      "execution_count": null,
      "outputs": []
    },
    {
      "cell_type": "code",
      "metadata": {
        "colab": {
          "base_uri": "https://localhost:8080/"
        },
        "id": "N5r7KuC2LprR",
        "outputId": "61ff92f2-c2c0-46b2-974c-6f131aa6a757"
      },
      "source": [
        "from sklearn.linear_model import LogisticRegression\r\n",
        "from sklearn.metrics import accuracy_score\r\n",
        "logisticRegr = LogisticRegression(solver = 'newton-cg', max_iter = 2000)\r\n",
        "logisticRegr.fit(X_train, y_train)\r\n",
        "y_pred = logisticRegr.predict(X_test)\r\n",
        "accuracy_score(y_test, y_pred)"
      ],
      "execution_count": null,
      "outputs": [
        {
          "output_type": "execute_result",
          "data": {
            "text/plain": [
              "0.8049510337323177"
            ]
          },
          "metadata": {
            "tags": []
          },
          "execution_count": 15
        }
      ]
    },
    {
      "cell_type": "code",
      "metadata": {
        "colab": {
          "base_uri": "https://localhost:8080/"
        },
        "id": "w7lS0ZnZNi5f",
        "outputId": "eaefaa4e-6cb0-404a-8201-060d68c1a79c"
      },
      "source": [
        "len(X.columns)"
      ],
      "execution_count": null,
      "outputs": [
        {
          "output_type": "execute_result",
          "data": {
            "text/plain": [
              "42"
            ]
          },
          "metadata": {
            "tags": []
          },
          "execution_count": 38
        }
      ]
    },
    {
      "cell_type": "code",
      "metadata": {
        "colab": {
          "base_uri": "https://localhost:8080/"
        },
        "id": "o_CrWBbNNdKX",
        "outputId": "3913ca74-d7ee-48c2-d750-1abcbd3d9a45"
      },
      "source": [
        "from sklearn.ensemble import RandomForestClassifier\r\n",
        "clf = RandomForestClassifier()\r\n",
        "clf.fit(X_train, y_train)\r\n",
        "y_pred = clf.predict(X_test)\r\n",
        "accuracy_score(y_test, y_pred)"
      ],
      "execution_count": null,
      "outputs": [
        {
          "output_type": "execute_result",
          "data": {
            "text/plain": [
              "0.8133452510492771"
            ]
          },
          "metadata": {
            "tags": []
          },
          "execution_count": 14
        }
      ]
    },
    {
      "cell_type": "code",
      "metadata": {
        "colab": {
          "base_uri": "https://localhost:8080/"
        },
        "id": "k1Mv6Z0fOo36",
        "outputId": "897c5a44-8a9e-49b6-8d00-feeed48e57da"
      },
      "source": [
        "from xgboost import XGBClassifier\r\n",
        "clf4 = XGBClassifier(max_depth=30, n_estimators=42,  objective='multi:softprob', learning_rate=0.3, num_class=2)\r\n",
        "clf4.fit(X_train, y_train)\r\n",
        "y_pred = clf4.predict(X_test)\r\n",
        "accuracy_score(y_test, y_pred)"
      ],
      "execution_count": null,
      "outputs": [
        {
          "output_type": "execute_result",
          "data": {
            "text/plain": [
              "0.8070884501787657"
            ]
          },
          "metadata": {
            "tags": []
          },
          "execution_count": 39
        }
      ]
    },
    {
      "cell_type": "code",
      "metadata": {
        "id": "kOy8dA5aQsBZ"
      },
      "source": [
        "#from sklearn.neighbors import (NeighborhoodComponentsAnalysis, KNeighborsClassifier)\r\n",
        "#ca = NeighborhoodComponentsAnalysis(random_state=42)\r\n",
        "#nca.fit(X_train, y_train)\r\n",
        "#y_nca = nca.predict(X_test)\r\n",
        "#accuracy_score(y_test, y_nca)"
      ],
      "execution_count": null,
      "outputs": []
    },
    {
      "cell_type": "code",
      "metadata": {
        "id": "u-bVA99mRezV"
      },
      "source": [
        "from sklearn.neighbors import KNeighborsClassifier\r\n",
        "knn = KNeighborsClassifier(n_neighbors=5)\r\n",
        "knn.fit(X_train, y_train)\r\n",
        "y_knn = knn.predict(X_test)"
      ],
      "execution_count": null,
      "outputs": []
    },
    {
      "cell_type": "code",
      "metadata": {
        "colab": {
          "base_uri": "https://localhost:8080/"
        },
        "id": "bjOwcgVZTB1q",
        "outputId": "a673621c-5445-4c3c-ad50-f078d8cd98b9"
      },
      "source": [
        "from sklearn.metrics import accuracy_score\r\n",
        "accuracy_score(y_test, y_knn)"
      ],
      "execution_count": null,
      "outputs": [
        {
          "output_type": "execute_result",
          "data": {
            "text/plain": [
              "0.7895616353178921"
            ]
          },
          "metadata": {
            "tags": []
          },
          "execution_count": 12
        }
      ]
    },
    {
      "cell_type": "code",
      "metadata": {
        "colab": {
          "base_uri": "https://localhost:8080/"
        },
        "id": "UW4l9iJfQMm1",
        "outputId": "18bf367c-590c-4661-8d09-1734abd9dcf9"
      },
      "source": [
        "from sklearn.ensemble import VotingClassifier\r\n",
        "from sklearn.pipeline import Pipeline\r\n",
        "from functools import partial\r\n",
        "\r\n",
        "models = list()\r\n",
        "# create the pipeline\r\n",
        "#pipe = Pipeline([('ContinuousFeturesSelector',ce), ('m', clf3)])\r\n",
        "# add as a tuple to the list of models for voting\r\n",
        "models.append(('rf', clf))\r\n",
        "models.append(('knn', knn))\r\n",
        "models.append(('lg', logisticRegr))\r\n",
        "\r\n",
        "# define the voting ensemble\r\n",
        "\r\n",
        "model = VotingClassifier(estimators=models, voting='soft', weights=[4,4,3])\r\n",
        "\r\n",
        "model.fit(X_train.values, y_train)\r\n",
        "print(f\"accuracy score voting is {accuracy_score(y_test, model.predict(X_test.values))}\")"
      ],
      "execution_count": null,
      "outputs": [
        {
          "output_type": "stream",
          "text": [
            "accuracy score voting is 0.8096144877972952\n"
          ],
          "name": "stdout"
        }
      ]
    },
    {
      "cell_type": "code",
      "metadata": {
        "id": "UXI4bo2SjLSE"
      },
      "source": [
        "clf = RandomForestClassifier(\r\n",
        "    n_estimators=50,\r\n",
        "    criterion='gini',\r\n",
        "    max_depth=5,\r\n",
        "    min_samples_split=2,\r\n",
        "    min_samples_leaf=1,\r\n",
        "    min_weight_fraction_leaf=0.0,\r\n",
        "    max_features='auto',\r\n",
        "    max_leaf_nodes=None,\r\n",
        "    min_impurity_decrease=0.0,\r\n",
        "    min_impurity_split=None,\r\n",
        "    bootstrap=True,\r\n",
        "    oob_score=False,\r\n",
        "    n_jobs=-1,\r\n",
        "    random_state=0,\r\n",
        "    verbose=0,\r\n",
        "    warm_start=False,\r\n",
        "    class_weight='balanced'\r\n",
        ")"
      ],
      "execution_count": null,
      "outputs": []
    },
    {
      "cell_type": "code",
      "metadata": {
        "id": "pkO2Q07AR0jI"
      },
      "source": [
        "from sklearn.model_selection import StratifiedKFold\r\n",
        "cv = StratifiedKFold(n_splits=5, random_state=123, shuffle=True)\r\n",
        "results = pd.DataFrame(columns=['training_score', 'test_score'])\r\n",
        "accuracy = []\r\n",
        "    \r\n",
        "for (train, test), i in zip(cv.split(X, y), range(5)):\r\n",
        "    clf.fit(X.iloc[train], y.iloc[train])\r\n",
        "    y_pred = clf.predict(X.iloc[test])\r\n",
        "    accuracy.append(accuracy_score(y.iloc[test], y_pred))\r\n"
      ],
      "execution_count": null,
      "outputs": []
    },
    {
      "cell_type": "code",
      "metadata": {
        "colab": {
          "base_uri": "https://localhost:8080/"
        },
        "id": "1iGpicEqlOAM",
        "outputId": "f7765682-01ce-454a-f646-5005cf7cc8d7"
      },
      "source": [
        "accuracy"
      ],
      "execution_count": null,
      "outputs": [
        {
          "output_type": "execute_result",
          "data": {
            "text/plain": [
              "[0.810624902844707,\n",
              " 0.8101974195554174,\n",
              " 0.8126384516730791,\n",
              " 0.8098791341183786,\n",
              " 0.813998678636664]"
            ]
          },
          "metadata": {
            "tags": []
          },
          "execution_count": 19
        }
      ]
    },
    {
      "cell_type": "code",
      "metadata": {
        "colab": {
          "base_uri": "https://localhost:8080/"
        },
        "id": "XoIuEjdEpGBZ",
        "outputId": "bc0512b8-c30b-4b9f-d1c4-1a13dd7ab33e"
      },
      "source": [
        "from sklearn.metrics import classification_report\r\n",
        "print(classification_report(y_test, y_knn))"
      ],
      "execution_count": null,
      "outputs": [
        {
          "output_type": "stream",
          "text": [
            "              precision    recall  f1-score   support\n",
            "\n",
            "         0.0       0.84      0.91      0.87     20140\n",
            "         1.0       0.52      0.36      0.42      5592\n",
            "\n",
            "    accuracy                           0.79     25732\n",
            "   macro avg       0.68      0.63      0.65     25732\n",
            "weighted avg       0.77      0.79      0.77     25732\n",
            "\n"
          ],
          "name": "stdout"
        }
      ]
    },
    {
      "cell_type": "markdown",
      "metadata": {
        "id": "kmzED0XE0SHd"
      },
      "source": [
        "# Building models based on resample dataset (balance the data wrt target)"
      ]
    },
    {
      "cell_type": "markdown",
      "metadata": {
        "id": "qpU2T8Y1WZfC"
      },
      "source": [
        "## Oversampling method"
      ]
    },
    {
      "cell_type": "code",
      "metadata": {
        "id": "anRgC4N-X4s0"
      },
      "source": [
        "X = df.loc[:, selected_fea]\r\n",
        "y = df.iloc[:,-1]\r\n",
        "X_train, X_test, y_train, y_test = train_test_split(X, y, test_size=0.20, random_state=1, stratify=y)"
      ],
      "execution_count": null,
      "outputs": []
    },
    {
      "cell_type": "code",
      "metadata": {
        "colab": {
          "base_uri": "https://localhost:8080/"
        },
        "id": "WnDJ18CNa0wS",
        "outputId": "75707aa4-09e5-462d-df33-7e6d836435d4"
      },
      "source": [
        ""
      ],
      "execution_count": null,
      "outputs": [
        {
          "output_type": "execute_result",
          "data": {
            "text/plain": [
              "(128657, 42)"
            ]
          },
          "metadata": {
            "tags": []
          },
          "execution_count": 25
        }
      ]
    },
    {
      "cell_type": "code",
      "metadata": {
        "colab": {
          "base_uri": "https://localhost:8080/"
        },
        "id": "W0FxbM9WX4L_",
        "outputId": "bdd254ed-e3fa-4004-9579-31921875d542"
      },
      "source": [
        "y.value_counts()/len(y)"
      ],
      "execution_count": null,
      "outputs": [
        {
          "output_type": "execute_result",
          "data": {
            "text/plain": [
              "0.0    0.782694\n",
              "1.0    0.217306\n",
              "Name: diabetes_mellitus, dtype: float64"
            ]
          },
          "metadata": {
            "tags": []
          },
          "execution_count": 9
        }
      ]
    },
    {
      "cell_type": "code",
      "metadata": {
        "colab": {
          "base_uri": "https://localhost:8080/"
        },
        "id": "m-Nmd5wfYpkk",
        "outputId": "4f1c95f9-c9ca-4aca-f298-2debfc94048a"
      },
      "source": [
        "y_train.value_counts()/len(y_train)"
      ],
      "execution_count": null,
      "outputs": [
        {
          "output_type": "execute_result",
          "data": {
            "text/plain": [
              "0.0    0.782696\n",
              "1.0    0.217304\n",
              "Name: diabetes_mellitus, dtype: float64"
            ]
          },
          "metadata": {
            "tags": []
          },
          "execution_count": 10
        }
      ]
    },
    {
      "cell_type": "code",
      "metadata": {
        "colab": {
          "base_uri": "https://localhost:8080/"
        },
        "id": "oIAGBnKZYy1I",
        "outputId": "d40a7f86-a33b-466d-c71b-61589d5bc127"
      },
      "source": [
        " pip install imbalanced-learn"
      ],
      "execution_count": null,
      "outputs": [
        {
          "output_type": "stream",
          "text": [
            "Requirement already satisfied: imbalanced-learn in /usr/local/lib/python3.6/dist-packages (0.4.3)\n",
            "Requirement already satisfied: scikit-learn>=0.20 in /usr/local/lib/python3.6/dist-packages (from imbalanced-learn) (0.22.2.post1)\n",
            "Requirement already satisfied: numpy>=1.8.2 in /usr/local/lib/python3.6/dist-packages (from imbalanced-learn) (1.19.5)\n",
            "Requirement already satisfied: scipy>=0.13.3 in /usr/local/lib/python3.6/dist-packages (from imbalanced-learn) (1.4.1)\n",
            "Requirement already satisfied: joblib>=0.11 in /usr/local/lib/python3.6/dist-packages (from scikit-learn>=0.20->imbalanced-learn) (1.0.0)\n"
          ],
          "name": "stdout"
        }
      ]
    },
    {
      "cell_type": "code",
      "metadata": {
        "colab": {
          "base_uri": "https://localhost:8080/"
        },
        "id": "bwJPw1CqZEIU",
        "outputId": "e027bd05-f81d-43c2-e5e7-dc35e6b557b8"
      },
      "source": [
        "from imblearn.over_sampling import RandomOverSampler\r\n",
        "# define oversampling strategy\r\n",
        "oversample = RandomOverSampler(sampling_strategy='minority')\r\n",
        "# fit and apply the transform\r\n",
        "X_over, y_over = oversample.fit_resample(X_train, y_train)"
      ],
      "execution_count": null,
      "outputs": [
        {
          "output_type": "stream",
          "text": [
            "/usr/local/lib/python3.6/dist-packages/sklearn/utils/deprecation.py:87: FutureWarning: Function safe_indexing is deprecated; safe_indexing is deprecated in version 0.22 and will be removed in version 0.24.\n",
            "  warnings.warn(msg, category=FutureWarning)\n"
          ],
          "name": "stderr"
        }
      ]
    },
    {
      "cell_type": "code",
      "metadata": {
        "colab": {
          "base_uri": "https://localhost:8080/"
        },
        "id": "vwKR4LIYZba9",
        "outputId": "ebfb95ee-3724-474e-baac-3796c13d5904"
      },
      "source": [
        "from collections import Counter\r\n",
        "print(Counter(y_over))"
      ],
      "execution_count": null,
      "outputs": [
        {
          "output_type": "stream",
          "text": [
            "Counter({0.0: 80559, 1.0: 80559})\n"
          ],
          "name": "stdout"
        }
      ]
    },
    {
      "cell_type": "code",
      "metadata": {
        "colab": {
          "base_uri": "https://localhost:8080/",
          "height": 243
        },
        "id": "YOZWaKmWaZ5q",
        "outputId": "3ede8d1a-609e-4d25-f13d-1d77a725f4ef"
      },
      "source": [
        "X_over = pd.DataFrame(X_over)\r\n",
        "X_over.columns = X.columns\r\n",
        "X_over.head()"
      ],
      "execution_count": null,
      "outputs": [
        {
          "output_type": "execute_result",
          "data": {
            "text/html": [
              "<div>\n",
              "<style scoped>\n",
              "    .dataframe tbody tr th:only-of-type {\n",
              "        vertical-align: middle;\n",
              "    }\n",
              "\n",
              "    .dataframe tbody tr th {\n",
              "        vertical-align: top;\n",
              "    }\n",
              "\n",
              "    .dataframe thead th {\n",
              "        text-align: right;\n",
              "    }\n",
              "</style>\n",
              "<table border=\"1\" class=\"dataframe\">\n",
              "  <thead>\n",
              "    <tr style=\"text-align: right;\">\n",
              "      <th></th>\n",
              "      <th>age</th>\n",
              "      <th>bmi</th>\n",
              "      <th>glucose_apache</th>\n",
              "      <th>h1_glucose_max</th>\n",
              "      <th>h1_glucose_min</th>\n",
              "      <th>d1_glucose_max</th>\n",
              "      <th>d1_glucose_min</th>\n",
              "      <th>d1_diasbp_invasive_max</th>\n",
              "      <th>d1_diasbp_invasive_min</th>\n",
              "      <th>d1_diasbp_max</th>\n",
              "      <th>d1_diasbp_min</th>\n",
              "      <th>d1_diasbp_noninvasive_max</th>\n",
              "      <th>d1_diasbp_noninvasive_min</th>\n",
              "      <th>d1_sysbp_invasive_max</th>\n",
              "      <th>d1_sysbp_invasive_min</th>\n",
              "      <th>d1_sysbp_max</th>\n",
              "      <th>d1_sysbp_min</th>\n",
              "      <th>d1_sysbp_noninvasive_max</th>\n",
              "      <th>d1_sysbp_noninvasive_min</th>\n",
              "      <th>heart_rate_apache</th>\n",
              "      <th>d1_heartrate_max</th>\n",
              "      <th>d1_heartrate_min</th>\n",
              "      <th>h1_diasbp_max</th>\n",
              "      <th>h1_diasbp_min</th>\n",
              "      <th>h1_diasbp_noninvasive_max</th>\n",
              "      <th>h1_diasbp_noninvasive_min</th>\n",
              "      <th>h1_sysbp_max</th>\n",
              "      <th>h1_sysbp_min</th>\n",
              "      <th>h1_sysbp_noninvasive_max</th>\n",
              "      <th>h1_sysbp_noninvasive_min</th>\n",
              "      <th>h1_heartrate_max</th>\n",
              "      <th>h1_heartrate_min</th>\n",
              "      <th>d1_albumin_max</th>\n",
              "      <th>d1_albumin_min</th>\n",
              "      <th>d1_lactate_max</th>\n",
              "      <th>d1_lactate_min</th>\n",
              "      <th>d1_bilirubin_max</th>\n",
              "      <th>d1_bilirubin_min</th>\n",
              "      <th>ethnicity_Asian</th>\n",
              "      <th>ethnicity_Caucasian</th>\n",
              "      <th>ethnicity_Hispanic</th>\n",
              "      <th>ethnicity_Native American</th>\n",
              "      <th>ethnicity_Other/Unknown</th>\n",
              "      <th>gender_M</th>\n",
              "    </tr>\n",
              "  </thead>\n",
              "  <tbody>\n",
              "    <tr>\n",
              "      <th>0</th>\n",
              "      <td>78.0</td>\n",
              "      <td>25.448202</td>\n",
              "      <td>394.0</td>\n",
              "      <td>164.830653</td>\n",
              "      <td>156.400769</td>\n",
              "      <td>394.0</td>\n",
              "      <td>184.0</td>\n",
              "      <td>78.179184</td>\n",
              "      <td>46.954389</td>\n",
              "      <td>72.0</td>\n",
              "      <td>68.0</td>\n",
              "      <td>72.0</td>\n",
              "      <td>68.0</td>\n",
              "      <td>152.420693</td>\n",
              "      <td>93.640280</td>\n",
              "      <td>130.0</td>\n",
              "      <td>118.0</td>\n",
              "      <td>130.0</td>\n",
              "      <td>118.0</td>\n",
              "      <td>176.0</td>\n",
              "      <td>88.0</td>\n",
              "      <td>73.0</td>\n",
              "      <td>68.0</td>\n",
              "      <td>68.0</td>\n",
              "      <td>68.000000</td>\n",
              "      <td>68.000000</td>\n",
              "      <td>118.0</td>\n",
              "      <td>118.0</td>\n",
              "      <td>118.000000</td>\n",
              "      <td>118.000000</td>\n",
              "      <td>88.0</td>\n",
              "      <td>88.0</td>\n",
              "      <td>3.000000</td>\n",
              "      <td>3.000000</td>\n",
              "      <td>1.320000</td>\n",
              "      <td>1.320000</td>\n",
              "      <td>0.400000</td>\n",
              "      <td>0.400000</td>\n",
              "      <td>0.0</td>\n",
              "      <td>1.0</td>\n",
              "      <td>0.0</td>\n",
              "      <td>0.0</td>\n",
              "      <td>0.0</td>\n",
              "      <td>1.0</td>\n",
              "    </tr>\n",
              "    <tr>\n",
              "      <th>1</th>\n",
              "      <td>44.0</td>\n",
              "      <td>33.214352</td>\n",
              "      <td>165.0</td>\n",
              "      <td>120.000000</td>\n",
              "      <td>120.000000</td>\n",
              "      <td>165.0</td>\n",
              "      <td>120.0</td>\n",
              "      <td>66.000000</td>\n",
              "      <td>52.000000</td>\n",
              "      <td>69.0</td>\n",
              "      <td>56.0</td>\n",
              "      <td>69.0</td>\n",
              "      <td>56.0</td>\n",
              "      <td>138.000000</td>\n",
              "      <td>97.000000</td>\n",
              "      <td>137.0</td>\n",
              "      <td>105.0</td>\n",
              "      <td>137.0</td>\n",
              "      <td>105.0</td>\n",
              "      <td>107.0</td>\n",
              "      <td>104.0</td>\n",
              "      <td>71.0</td>\n",
              "      <td>65.0</td>\n",
              "      <td>52.0</td>\n",
              "      <td>76.423325</td>\n",
              "      <td>63.834716</td>\n",
              "      <td>135.0</td>\n",
              "      <td>113.0</td>\n",
              "      <td>132.356291</td>\n",
              "      <td>115.518627</td>\n",
              "      <td>95.0</td>\n",
              "      <td>71.0</td>\n",
              "      <td>2.998558</td>\n",
              "      <td>2.927553</td>\n",
              "      <td>1.800000</td>\n",
              "      <td>0.800000</td>\n",
              "      <td>1.283528</td>\n",
              "      <td>1.204542</td>\n",
              "      <td>0.0</td>\n",
              "      <td>1.0</td>\n",
              "      <td>0.0</td>\n",
              "      <td>0.0</td>\n",
              "      <td>0.0</td>\n",
              "      <td>1.0</td>\n",
              "    </tr>\n",
              "    <tr>\n",
              "      <th>2</th>\n",
              "      <td>71.0</td>\n",
              "      <td>22.955862</td>\n",
              "      <td>169.0</td>\n",
              "      <td>231.000000</td>\n",
              "      <td>120.000000</td>\n",
              "      <td>231.0</td>\n",
              "      <td>120.0</td>\n",
              "      <td>83.419563</td>\n",
              "      <td>50.503905</td>\n",
              "      <td>98.0</td>\n",
              "      <td>56.0</td>\n",
              "      <td>98.0</td>\n",
              "      <td>56.0</td>\n",
              "      <td>158.856576</td>\n",
              "      <td>96.307315</td>\n",
              "      <td>141.0</td>\n",
              "      <td>98.0</td>\n",
              "      <td>141.0</td>\n",
              "      <td>98.0</td>\n",
              "      <td>106.0</td>\n",
              "      <td>110.0</td>\n",
              "      <td>82.0</td>\n",
              "      <td>98.0</td>\n",
              "      <td>63.0</td>\n",
              "      <td>98.000000</td>\n",
              "      <td>63.000000</td>\n",
              "      <td>141.0</td>\n",
              "      <td>110.0</td>\n",
              "      <td>141.000000</td>\n",
              "      <td>110.000000</td>\n",
              "      <td>110.0</td>\n",
              "      <td>84.0</td>\n",
              "      <td>2.100000</td>\n",
              "      <td>2.100000</td>\n",
              "      <td>3.500000</td>\n",
              "      <td>1.900000</td>\n",
              "      <td>0.600000</td>\n",
              "      <td>0.600000</td>\n",
              "      <td>0.0</td>\n",
              "      <td>0.0</td>\n",
              "      <td>0.0</td>\n",
              "      <td>0.0</td>\n",
              "      <td>0.0</td>\n",
              "      <td>1.0</td>\n",
              "    </tr>\n",
              "    <tr>\n",
              "      <th>3</th>\n",
              "      <td>46.0</td>\n",
              "      <td>15.937719</td>\n",
              "      <td>76.0</td>\n",
              "      <td>90.000000</td>\n",
              "      <td>90.000000</td>\n",
              "      <td>142.0</td>\n",
              "      <td>64.0</td>\n",
              "      <td>79.773308</td>\n",
              "      <td>46.013596</td>\n",
              "      <td>89.0</td>\n",
              "      <td>56.0</td>\n",
              "      <td>89.0</td>\n",
              "      <td>56.0</td>\n",
              "      <td>153.067895</td>\n",
              "      <td>92.752244</td>\n",
              "      <td>115.0</td>\n",
              "      <td>90.0</td>\n",
              "      <td>115.0</td>\n",
              "      <td>90.0</td>\n",
              "      <td>108.0</td>\n",
              "      <td>109.0</td>\n",
              "      <td>89.0</td>\n",
              "      <td>65.0</td>\n",
              "      <td>63.0</td>\n",
              "      <td>65.000000</td>\n",
              "      <td>63.000000</td>\n",
              "      <td>95.0</td>\n",
              "      <td>92.0</td>\n",
              "      <td>95.000000</td>\n",
              "      <td>92.000000</td>\n",
              "      <td>99.0</td>\n",
              "      <td>96.0</td>\n",
              "      <td>2.000000</td>\n",
              "      <td>2.000000</td>\n",
              "      <td>0.800000</td>\n",
              "      <td>0.800000</td>\n",
              "      <td>0.300000</td>\n",
              "      <td>0.300000</td>\n",
              "      <td>0.0</td>\n",
              "      <td>1.0</td>\n",
              "      <td>0.0</td>\n",
              "      <td>0.0</td>\n",
              "      <td>0.0</td>\n",
              "      <td>0.0</td>\n",
              "    </tr>\n",
              "    <tr>\n",
              "      <th>4</th>\n",
              "      <td>69.0</td>\n",
              "      <td>22.173655</td>\n",
              "      <td>99.0</td>\n",
              "      <td>167.721828</td>\n",
              "      <td>159.128092</td>\n",
              "      <td>145.0</td>\n",
              "      <td>99.0</td>\n",
              "      <td>79.773308</td>\n",
              "      <td>46.013596</td>\n",
              "      <td>87.0</td>\n",
              "      <td>40.0</td>\n",
              "      <td>87.0</td>\n",
              "      <td>40.0</td>\n",
              "      <td>153.067895</td>\n",
              "      <td>92.752244</td>\n",
              "      <td>129.0</td>\n",
              "      <td>72.0</td>\n",
              "      <td>129.0</td>\n",
              "      <td>72.0</td>\n",
              "      <td>90.0</td>\n",
              "      <td>91.0</td>\n",
              "      <td>72.0</td>\n",
              "      <td>64.0</td>\n",
              "      <td>57.0</td>\n",
              "      <td>64.000000</td>\n",
              "      <td>57.000000</td>\n",
              "      <td>118.0</td>\n",
              "      <td>90.0</td>\n",
              "      <td>118.000000</td>\n",
              "      <td>90.000000</td>\n",
              "      <td>81.0</td>\n",
              "      <td>75.0</td>\n",
              "      <td>2.907929</td>\n",
              "      <td>2.839910</td>\n",
              "      <td>2.836248</td>\n",
              "      <td>2.026176</td>\n",
              "      <td>1.013703</td>\n",
              "      <td>0.949435</td>\n",
              "      <td>0.0</td>\n",
              "      <td>1.0</td>\n",
              "      <td>0.0</td>\n",
              "      <td>0.0</td>\n",
              "      <td>0.0</td>\n",
              "      <td>0.0</td>\n",
              "    </tr>\n",
              "  </tbody>\n",
              "</table>\n",
              "</div>"
            ],
            "text/plain": [
              "    age        bmi  ...  ethnicity_Other/Unknown  gender_M\n",
              "0  78.0  25.448202  ...                      0.0       1.0\n",
              "1  44.0  33.214352  ...                      0.0       1.0\n",
              "2  71.0  22.955862  ...                      0.0       1.0\n",
              "3  46.0  15.937719  ...                      0.0       0.0\n",
              "4  69.0  22.173655  ...                      0.0       0.0\n",
              "\n",
              "[5 rows x 44 columns]"
            ]
          },
          "metadata": {
            "tags": []
          },
          "execution_count": 79
        }
      ]
    },
    {
      "cell_type": "code",
      "metadata": {
        "colab": {
          "base_uri": "https://localhost:8080/"
        },
        "id": "CCp3eXCs0R23",
        "outputId": "3f8bc75b-deca-47bf-c610-b7cca1f5cdaa"
      },
      "source": [
        "df['diabetes_mellitus'].value_counts()"
      ],
      "execution_count": null,
      "outputs": [
        {
          "output_type": "execute_result",
          "data": {
            "text/plain": [
              "0.0    100699\n",
              "1.0     27958\n",
              "Name: diabetes_mellitus, dtype: int64"
            ]
          },
          "metadata": {
            "tags": []
          },
          "execution_count": 22
        }
      ]
    },
    {
      "cell_type": "code",
      "metadata": {
        "id": "gSK9Sc_f2GwK"
      },
      "source": [
        "#from sklearn.utils import resample\r\n",
        "\r\n",
        "#tr_majority = df[df['diabetes_mellitus'] == 0]\r\n",
        "#tr_minority = df[df['diabetes_mellitus'] == 1]\r\n",
        "\r\n",
        "#tr_minority_upsampled = resample(tr_minority,\r\n",
        "                                 replace=True,  # sample with replacement\r\n",
        "                                 n_samples=100000,  # to match majority class 84000\r\n",
        "                                 random_state=1)  # reproducible results\r\n",
        "\r\n",
        "# Combine majority class with upsampled minority class\r\n",
        "#tr_upsampled = pd.concat([tr_majority, tr_minority_upsampled])\r\n",
        "\r\n",
        "# Display new class counts\r\n",
        "#tr_upsampled.diabetes_mellitus.value_counts()\r\n"
      ],
      "execution_count": null,
      "outputs": []
    },
    {
      "cell_type": "code",
      "metadata": {
        "id": "zXxwSKtx2gv4"
      },
      "source": [
        "#X_upsampled = tr_upsampled.loc[:,selected_fea]\r\n",
        "#y_upsampled = tr_upsampled.iloc[:,-1]\r\n",
        "#from sklearn.model_selection import train_test_split\r\n",
        "# split into train test sets\r\n",
        "#X_train, X_test, y_train, y_test = train_test_split(X_upsampled, y_upsampled, test_size=0.20, random_state=1)"
      ],
      "execution_count": null,
      "outputs": []
    },
    {
      "cell_type": "code",
      "metadata": {
        "colab": {
          "base_uri": "https://localhost:8080/"
        },
        "id": "u49_dvNj27qR",
        "outputId": "7d39ff4f-6b29-4e2e-8c55-60bcf5386175"
      },
      "source": [
        "from sklearn.linear_model import LogisticRegression\r\n",
        "from sklearn.metrics import accuracy_score\r\n",
        "logisticRegr = LogisticRegression(solver = 'newton-cg', max_iter = 2000)\r\n",
        "logisticRegr.fit(X_over, y_over)\r\n",
        "y_pred = logisticRegr.predict(X_test)\r\n",
        "accuracy_score(y_test, y_pred)"
      ],
      "execution_count": null,
      "outputs": [
        {
          "output_type": "execute_result",
          "data": {
            "text/plain": [
              "0.7557515933468055"
            ]
          },
          "metadata": {
            "tags": []
          },
          "execution_count": 80
        }
      ]
    },
    {
      "cell_type": "markdown",
      "metadata": {
        "id": "2zo15fb45H6m"
      },
      "source": [
        "!!! Probably linear classificator is NOT suitable for our problem "
      ]
    },
    {
      "cell_type": "code",
      "metadata": {
        "colab": {
          "base_uri": "https://localhost:8080/"
        },
        "id": "F0c-EfKi4IjR",
        "outputId": "87a6086c-b668-4b47-dfa5-405ba5335f13"
      },
      "source": [
        "from sklearn.ensemble import RandomForestClassifier\r\n",
        "clf = RandomForestClassifier()\r\n",
        "clf.fit(X_over, y_over)\r\n",
        "y_pred = clf.predict(X_test)\r\n",
        "accuracy_score(y_test, y_pred)"
      ],
      "execution_count": null,
      "outputs": [
        {
          "output_type": "execute_result",
          "data": {
            "text/plain": [
              "0.8129566298771957"
            ]
          },
          "metadata": {
            "tags": []
          },
          "execution_count": 81
        }
      ]
    },
    {
      "cell_type": "markdown",
      "metadata": {
        "id": "pM3CpkaIc5Po"
      },
      "source": [
        "RF\r\n",
        "\r\n",
        "*   oversampling the whole dataset --> 85.6%\r\n",
        "*   oversampling just training set --> 81.05%\r\n"
      ]
    },
    {
      "cell_type": "code",
      "metadata": {
        "colab": {
          "base_uri": "https://localhost:8080/"
        },
        "id": "sRmuXN635ihn",
        "outputId": "99e31d65-9bc7-4b0b-a78e-4cbfb74891b3"
      },
      "source": [
        "from sklearn.neighbors import KNeighborsClassifier\r\n",
        "knn = KNeighborsClassifier(n_neighbors=5)\r\n",
        "knn.fit(X_over, y_over)\r\n",
        "y_knn = knn.predict(X_test)\r\n",
        "accuracy_score(y_test, y_knn)"
      ],
      "execution_count": null,
      "outputs": [
        {
          "output_type": "execute_result",
          "data": {
            "text/plain": [
              "0.6828462614643246"
            ]
          },
          "metadata": {
            "tags": []
          },
          "execution_count": 31
        }
      ]
    },
    {
      "cell_type": "markdown",
      "metadata": {
        "id": "ahrpqIv9exWV"
      },
      "source": [
        "\r\n",
        "*   78.5%\r\n",
        "*   68.3%\r\n",
        "\r\n"
      ]
    },
    {
      "cell_type": "code",
      "metadata": {
        "colab": {
          "base_uri": "https://localhost:8080/"
        },
        "id": "LAHrbX_56vuO",
        "outputId": "4cb27aa1-b0d2-42dd-bc79-7ec345f3f1e0"
      },
      "source": [
        "from xgboost import XGBClassifier\r\n",
        "clf4 = XGBClassifier(max_depth=30, n_estimators=42,  objective='multi:softprob', learning_rate=0.3, num_class=2)\r\n",
        "clf4.fit(X_over, y_over)\r\n",
        "y_pred = clf4.predict(X_test)\r\n",
        "accuracy_score(y_test, y_pred)"
      ],
      "execution_count": null,
      "outputs": [
        {
          "output_type": "execute_result",
          "data": {
            "text/plain": [
              "0.8039794808021141"
            ]
          },
          "metadata": {
            "tags": []
          },
          "execution_count": 29
        }
      ]
    },
    {
      "cell_type": "markdown",
      "metadata": {
        "id": "77GJDY0EcsqD"
      },
      "source": [
        "XGBC\r\n",
        "\r\n",
        "*   oversampling the whole dataset --> 92.6%\r\n",
        "*   oversampling just training set --> 80.4%\r\n"
      ]
    },
    {
      "cell_type": "code",
      "metadata": {
        "colab": {
          "base_uri": "https://localhost:8080/"
        },
        "id": "YHW19Glx6kDY",
        "outputId": "4d22944c-c84e-4310-8b85-8f78cc4e46c3"
      },
      "source": [
        "from sklearn.ensemble import VotingClassifier\r\n",
        "from sklearn.pipeline import Pipeline\r\n",
        "from functools import partial\r\n",
        "from sklearn.metrics import classification_report\r\n",
        "\r\n",
        "\r\n",
        "models = list()\r\n",
        "# create the pipeline\r\n",
        "#pipe = Pipeline([('ContinuousFeturesSelector',ce), ('m', clf3)])\r\n",
        "# add as a tuple to the list of models for voting\r\n",
        "models.append(('rf', clf))\r\n",
        "models.append(('knn', knn))\r\n",
        "models.append(('XGBC', clf4))\r\n",
        "models.append(('lg', logisticRegr))\r\n",
        "\r\n",
        "# define the voting ensemble\r\n",
        "\r\n",
        "model = VotingClassifier(estimators=models, voting='soft', weights=[3,2,3,2])\r\n",
        "\r\n",
        "model.fit(X_over.values, y_over)\r\n",
        "print(f\"accuracy score voting is {accuracy_score(y_test, model.predict(X_test.values))}\")\r\n",
        "print(classification_report(y_test, model.predict(X_test.values)))"
      ],
      "execution_count": null,
      "outputs": [
        {
          "output_type": "stream",
          "text": [
            "accuracy score voting is 0.8031633763407431\n",
            "              precision    recall  f1-score   support\n",
            "\n",
            "         0.0       0.87      0.88      0.88     20140\n",
            "         1.0       0.55      0.52      0.53      5592\n",
            "\n",
            "    accuracy                           0.80     25732\n",
            "   macro avg       0.71      0.70      0.70     25732\n",
            "weighted avg       0.80      0.80      0.80     25732\n",
            "\n"
          ],
          "name": "stdout"
        }
      ]
    },
    {
      "cell_type": "markdown",
      "metadata": {
        "id": "DYukgk0femeF"
      },
      "source": [
        "VC\r\n",
        "\r\n",
        "\r\n",
        "*   Oversampling the whole : 92.22%\r\n"
      ]
    },
    {
      "cell_type": "markdown",
      "metadata": {
        "id": "cKy7N7htz487"
      },
      "source": [
        "##Undersampling method"
      ]
    },
    {
      "cell_type": "code",
      "metadata": {
        "colab": {
          "base_uri": "https://localhost:8080/"
        },
        "id": "yoREz-F1z-fM",
        "outputId": "449f759a-cafe-4e98-f3b7-92cdf42f2782"
      },
      "source": [
        "from imblearn.under_sampling import RandomUnderSampler\r\n",
        "undersample = RandomUnderSampler(sampling_strategy='majority')\r\n",
        "# fit and apply the transform\r\n",
        "X_under, y_under = undersample.fit_resample(X, y)"
      ],
      "execution_count": null,
      "outputs": [
        {
          "output_type": "stream",
          "text": [
            "/usr/local/lib/python3.6/dist-packages/sklearn/utils/deprecation.py:87: FutureWarning: Function safe_indexing is deprecated; safe_indexing is deprecated in version 0.22 and will be removed in version 0.24.\n",
            "  warnings.warn(msg, category=FutureWarning)\n"
          ],
          "name": "stderr"
        }
      ]
    },
    {
      "cell_type": "code",
      "metadata": {
        "id": "v9DftUWx5WyF"
      },
      "source": [
        "X_under = pd.DataFrame(X_under)\r\n",
        "X_under.columns = X_train.columns"
      ],
      "execution_count": null,
      "outputs": []
    },
    {
      "cell_type": "code",
      "metadata": {
        "colab": {
          "base_uri": "https://localhost:8080/"
        },
        "id": "RnLeKb0Q3Wf5",
        "outputId": "56ea9764-7b8a-46e0-b984-e58f41739281"
      },
      "source": [
        "print(len(y_under))\r\n",
        "print(len(y))\r\n",
        "print(Counter(y_under))"
      ],
      "execution_count": null,
      "outputs": [
        {
          "output_type": "stream",
          "text": [
            "55916\n",
            "128657\n",
            "Counter({0.0: 27958, 1.0: 27958})\n"
          ],
          "name": "stdout"
        }
      ]
    },
    {
      "cell_type": "code",
      "metadata": {
        "colab": {
          "base_uri": "https://localhost:8080/"
        },
        "id": "d8tIjbZN3xcu",
        "outputId": "0bb1e898-a233-4318-d373-5cb353c23daf"
      },
      "source": [
        "from sklearn.linear_model import LogisticRegression\r\n",
        "from sklearn.metrics import accuracy_score\r\n",
        "logisticRegr = LogisticRegression(solver = 'newton-cg', max_iter = 2000)\r\n",
        "logisticRegr.fit(X_under, y_under)\r\n",
        "y_log = logisticRegr.predict(X_test)\r\n",
        "accuracy_score(y_test, y_log)"
      ],
      "execution_count": null,
      "outputs": [
        {
          "output_type": "execute_result",
          "data": {
            "text/plain": [
              "0.7545857298305612"
            ]
          },
          "metadata": {
            "tags": []
          },
          "execution_count": 84
        }
      ]
    },
    {
      "cell_type": "code",
      "metadata": {
        "colab": {
          "base_uri": "https://localhost:8080/"
        },
        "id": "Oew7gFlg32uy",
        "outputId": "2f277ceb-4e27-4b70-eb92-2488fbd35f17"
      },
      "source": [
        "from sklearn.ensemble import RandomForestClassifier\r\n",
        "clf = RandomForestClassifier()\r\n",
        "clf.fit(X_under, y_under)\r\n",
        "y_rf = clf.predict(X_test)\r\n",
        "accuracy_score(y_test, y_rf)"
      ],
      "execution_count": null,
      "outputs": [
        {
          "output_type": "execute_result",
          "data": {
            "text/plain": [
              "0.8546556816415358"
            ]
          },
          "metadata": {
            "tags": []
          },
          "execution_count": 85
        }
      ]
    },
    {
      "cell_type": "code",
      "metadata": {
        "colab": {
          "base_uri": "https://localhost:8080/"
        },
        "id": "9PlJjTnr37fj",
        "outputId": "7ad4d7cb-ae03-4b9a-ff02-a8c8585613d4"
      },
      "source": [
        "from sklearn.neighbors import KNeighborsClassifier\r\n",
        "knn = KNeighborsClassifier(n_neighbors=5)\r\n",
        "knn.fit(X_under, y_under)\r\n",
        "y_knn = knn.predict(X_test)\r\n",
        "accuracy_score(y_test, y_knn)"
      ],
      "execution_count": null,
      "outputs": [
        {
          "output_type": "execute_result",
          "data": {
            "text/plain": [
              "0.7465801336856832"
            ]
          },
          "metadata": {
            "tags": []
          },
          "execution_count": 48
        }
      ]
    },
    {
      "cell_type": "code",
      "metadata": {
        "colab": {
          "base_uri": "https://localhost:8080/"
        },
        "id": "6cFyB3-v3-AT",
        "outputId": "037ca139-33ca-4e69-a2b2-ae96e540aa38"
      },
      "source": [
        "from xgboost import XGBClassifier\r\n",
        "clf4 = XGBClassifier(max_depth=30, n_estimators=42,  objective='multi:softprob', learning_rate=0.3, num_class=2)\r\n",
        "clf4.fit(X_under, y_under)\r\n",
        "y_xgbc = clf4.predict(X_test)\r\n",
        "accuracy_score(y_test, y_xgbc)"
      ],
      "execution_count": null,
      "outputs": [
        {
          "output_type": "execute_result",
          "data": {
            "text/plain": [
              "0.8447069796362506"
            ]
          },
          "metadata": {
            "tags": []
          },
          "execution_count": 86
        }
      ]
    },
    {
      "cell_type": "markdown",
      "metadata": {
        "id": "JJgiJqe8nwG5"
      },
      "source": [
        "84.62 without age and bmi"
      ]
    },
    {
      "cell_type": "code",
      "metadata": {
        "colab": {
          "base_uri": "https://localhost:8080/"
        },
        "id": "YNeei_vC4BCt",
        "outputId": "0299168a-b62a-402d-f60b-436e61974093"
      },
      "source": [
        "from sklearn.ensemble import VotingClassifier\r\n",
        "from sklearn.pipeline import Pipeline\r\n",
        "from functools import partial\r\n",
        "from sklearn.metrics import classification_report\r\n",
        "\r\n",
        "\r\n",
        "models = list()\r\n",
        "# create the pipeline\r\n",
        "#pipe = Pipeline([('ContinuousFeturesSelector',ce), ('m', clf3)])\r\n",
        "# add as a tuple to the list of models for voting\r\n",
        "models.append(('rf', clf))\r\n",
        "models.append(('knn', knn))\r\n",
        "models.append(('XGBC', clf4))\r\n",
        "models.append(('lg', logisticRegr))\r\n",
        "\r\n",
        "# define the voting ensemble\r\n",
        "\r\n",
        "model = VotingClassifier(estimators=models, voting='soft', weights=[4,1,4,1])\r\n",
        "\r\n",
        "model.fit(X_under.values, y_under)\r\n",
        "print(f\"accuracy score voting is {accuracy_score(y_test, model.predict(X_test.values))}\")\r\n",
        "print(classification_report(y_test, model.predict(X_test.values)))"
      ],
      "execution_count": null,
      "outputs": [
        {
          "output_type": "stream",
          "text": [
            "accuracy score voting is 0.8539561635317892\n",
            "              precision    recall  f1-score   support\n",
            "\n",
            "         0.0       1.00      0.81      0.90     20140\n",
            "         1.0       0.60      1.00      0.75      5592\n",
            "\n",
            "    accuracy                           0.85     25732\n",
            "   macro avg       0.80      0.91      0.82     25732\n",
            "weighted avg       0.91      0.85      0.86     25732\n",
            "\n"
          ],
          "name": "stdout"
        }
      ]
    },
    {
      "cell_type": "markdown",
      "metadata": {
        "id": "AU2DZP2O8Qu6"
      },
      "source": [
        "##Combining Random Oversampling and Undersampling"
      ]
    },
    {
      "cell_type": "code",
      "metadata": {
        "colab": {
          "base_uri": "https://localhost:8080/"
        },
        "id": "LW7atBnw8Y19",
        "outputId": "1dcaf8a9-3d08-4053-a967-4d96d79fdc69"
      },
      "source": [
        "y_train.value_counts()"
      ],
      "execution_count": null,
      "outputs": [
        {
          "output_type": "execute_result",
          "data": {
            "text/plain": [
              "0.0    80559\n",
              "1.0    22366\n",
              "Name: diabetes_mellitus, dtype: int64"
            ]
          },
          "metadata": {
            "tags": []
          },
          "execution_count": 59
        }
      ]
    },
    {
      "cell_type": "code",
      "metadata": {
        "colab": {
          "base_uri": "https://localhost:8080/"
        },
        "id": "6XiwNrbK9Oz3",
        "outputId": "14d53962-dc17-466c-e7d2-99d308360d3d"
      },
      "source": [
        "over = RandomOverSampler(sampling_strategy=0.4)\r\n",
        "X_com, y_com = over.fit_resample(X_train, y_train)\r\n",
        "print(Counter(y_com))\r\n",
        "under = RandomUnderSampler(sampling_strategy=0.6)\r\n",
        "X_com, y_com = under.fit_resample(X_com, y_com)\r\n",
        "print(Counter(y_com))"
      ],
      "execution_count": null,
      "outputs": [
        {
          "output_type": "stream",
          "text": [
            "Counter({0.0: 80559, 1.0: 32223})\n",
            "Counter({0.0: 53705, 1.0: 32223})\n"
          ],
          "name": "stdout"
        },
        {
          "output_type": "stream",
          "text": [
            "/usr/local/lib/python3.6/dist-packages/sklearn/utils/deprecation.py:87: FutureWarning: Function safe_indexing is deprecated; safe_indexing is deprecated in version 0.22 and will be removed in version 0.24.\n",
            "  warnings.warn(msg, category=FutureWarning)\n",
            "/usr/local/lib/python3.6/dist-packages/sklearn/utils/deprecation.py:87: FutureWarning: Function safe_indexing is deprecated; safe_indexing is deprecated in version 0.22 and will be removed in version 0.24.\n",
            "  warnings.warn(msg, category=FutureWarning)\n"
          ],
          "name": "stderr"
        }
      ]
    },
    {
      "cell_type": "code",
      "metadata": {
        "colab": {
          "base_uri": "https://localhost:8080/",
          "height": 243
        },
        "id": "3CPyjznsAl-w",
        "outputId": "d3b7e981-395f-484a-a74a-5cd5db9c6469"
      },
      "source": [
        "X_com = pd.DataFrame(X_com)\r\n",
        "X_com.columns = X_train.columns\r\n",
        "X_com.head()"
      ],
      "execution_count": null,
      "outputs": [
        {
          "output_type": "execute_result",
          "data": {
            "text/html": [
              "<div>\n",
              "<style scoped>\n",
              "    .dataframe tbody tr th:only-of-type {\n",
              "        vertical-align: middle;\n",
              "    }\n",
              "\n",
              "    .dataframe tbody tr th {\n",
              "        vertical-align: top;\n",
              "    }\n",
              "\n",
              "    .dataframe thead th {\n",
              "        text-align: right;\n",
              "    }\n",
              "</style>\n",
              "<table border=\"1\" class=\"dataframe\">\n",
              "  <thead>\n",
              "    <tr style=\"text-align: right;\">\n",
              "      <th></th>\n",
              "      <th>age</th>\n",
              "      <th>bmi</th>\n",
              "      <th>glucose_apache</th>\n",
              "      <th>h1_glucose_max</th>\n",
              "      <th>h1_glucose_min</th>\n",
              "      <th>d1_glucose_max</th>\n",
              "      <th>d1_glucose_min</th>\n",
              "      <th>d1_diasbp_invasive_max</th>\n",
              "      <th>d1_diasbp_invasive_min</th>\n",
              "      <th>d1_diasbp_max</th>\n",
              "      <th>d1_diasbp_min</th>\n",
              "      <th>d1_diasbp_noninvasive_max</th>\n",
              "      <th>d1_diasbp_noninvasive_min</th>\n",
              "      <th>d1_sysbp_invasive_max</th>\n",
              "      <th>d1_sysbp_invasive_min</th>\n",
              "      <th>d1_sysbp_max</th>\n",
              "      <th>d1_sysbp_min</th>\n",
              "      <th>d1_sysbp_noninvasive_max</th>\n",
              "      <th>d1_sysbp_noninvasive_min</th>\n",
              "      <th>heart_rate_apache</th>\n",
              "      <th>d1_heartrate_max</th>\n",
              "      <th>d1_heartrate_min</th>\n",
              "      <th>h1_diasbp_max</th>\n",
              "      <th>h1_diasbp_min</th>\n",
              "      <th>h1_diasbp_noninvasive_max</th>\n",
              "      <th>h1_diasbp_noninvasive_min</th>\n",
              "      <th>h1_sysbp_max</th>\n",
              "      <th>h1_sysbp_min</th>\n",
              "      <th>h1_sysbp_noninvasive_max</th>\n",
              "      <th>h1_sysbp_noninvasive_min</th>\n",
              "      <th>h1_heartrate_max</th>\n",
              "      <th>h1_heartrate_min</th>\n",
              "      <th>d1_albumin_max</th>\n",
              "      <th>d1_albumin_min</th>\n",
              "      <th>d1_lactate_max</th>\n",
              "      <th>d1_lactate_min</th>\n",
              "      <th>d1_bilirubin_max</th>\n",
              "      <th>d1_bilirubin_min</th>\n",
              "      <th>ethnicity_Asian</th>\n",
              "      <th>ethnicity_Caucasian</th>\n",
              "      <th>ethnicity_Hispanic</th>\n",
              "      <th>ethnicity_Native American</th>\n",
              "      <th>ethnicity_Other/Unknown</th>\n",
              "      <th>gender_M</th>\n",
              "    </tr>\n",
              "  </thead>\n",
              "  <tbody>\n",
              "    <tr>\n",
              "      <th>0</th>\n",
              "      <td>66.0</td>\n",
              "      <td>20.414982</td>\n",
              "      <td>77.00000</td>\n",
              "      <td>102.000000</td>\n",
              "      <td>102.000000</td>\n",
              "      <td>102.0</td>\n",
              "      <td>102.0</td>\n",
              "      <td>83.419563</td>\n",
              "      <td>50.503905</td>\n",
              "      <td>67.0</td>\n",
              "      <td>57.0</td>\n",
              "      <td>67.0</td>\n",
              "      <td>57.0</td>\n",
              "      <td>158.856576</td>\n",
              "      <td>96.307315</td>\n",
              "      <td>92.0</td>\n",
              "      <td>84.0</td>\n",
              "      <td>92.0</td>\n",
              "      <td>84.0</td>\n",
              "      <td>124.0</td>\n",
              "      <td>121.0</td>\n",
              "      <td>66.0</td>\n",
              "      <td>78.000000</td>\n",
              "      <td>52.000000</td>\n",
              "      <td>78.000000</td>\n",
              "      <td>52.000000</td>\n",
              "      <td>105.000000</td>\n",
              "      <td>70.000000</td>\n",
              "      <td>105.000000</td>\n",
              "      <td>70.000000</td>\n",
              "      <td>74.0</td>\n",
              "      <td>66.0</td>\n",
              "      <td>3.000000</td>\n",
              "      <td>3.00000</td>\n",
              "      <td>4.470000</td>\n",
              "      <td>2.350000</td>\n",
              "      <td>0.400000</td>\n",
              "      <td>0.400000</td>\n",
              "      <td>0.0</td>\n",
              "      <td>0.0</td>\n",
              "      <td>0.0</td>\n",
              "      <td>0.0</td>\n",
              "      <td>0.0</td>\n",
              "      <td>1.0</td>\n",
              "    </tr>\n",
              "    <tr>\n",
              "      <th>1</th>\n",
              "      <td>57.0</td>\n",
              "      <td>41.470491</td>\n",
              "      <td>151.00000</td>\n",
              "      <td>132.000000</td>\n",
              "      <td>132.000000</td>\n",
              "      <td>151.0</td>\n",
              "      <td>132.0</td>\n",
              "      <td>56.000000</td>\n",
              "      <td>48.000000</td>\n",
              "      <td>88.0</td>\n",
              "      <td>61.0</td>\n",
              "      <td>88.0</td>\n",
              "      <td>61.0</td>\n",
              "      <td>150.000000</td>\n",
              "      <td>113.000000</td>\n",
              "      <td>153.0</td>\n",
              "      <td>115.0</td>\n",
              "      <td>153.0</td>\n",
              "      <td>115.0</td>\n",
              "      <td>117.0</td>\n",
              "      <td>116.0</td>\n",
              "      <td>66.0</td>\n",
              "      <td>75.807118</td>\n",
              "      <td>63.248274</td>\n",
              "      <td>76.423325</td>\n",
              "      <td>63.834716</td>\n",
              "      <td>132.552247</td>\n",
              "      <td>115.253983</td>\n",
              "      <td>132.356291</td>\n",
              "      <td>115.518627</td>\n",
              "      <td>112.0</td>\n",
              "      <td>112.0</td>\n",
              "      <td>2.900000</td>\n",
              "      <td>2.90000</td>\n",
              "      <td>2.871167</td>\n",
              "      <td>2.049455</td>\n",
              "      <td>1.100000</td>\n",
              "      <td>1.100000</td>\n",
              "      <td>0.0</td>\n",
              "      <td>1.0</td>\n",
              "      <td>0.0</td>\n",
              "      <td>0.0</td>\n",
              "      <td>0.0</td>\n",
              "      <td>1.0</td>\n",
              "    </tr>\n",
              "    <tr>\n",
              "      <th>2</th>\n",
              "      <td>81.0</td>\n",
              "      <td>21.645014</td>\n",
              "      <td>162.73474</td>\n",
              "      <td>174.909719</td>\n",
              "      <td>165.116524</td>\n",
              "      <td>135.0</td>\n",
              "      <td>135.0</td>\n",
              "      <td>74.000000</td>\n",
              "      <td>48.000000</td>\n",
              "      <td>77.0</td>\n",
              "      <td>57.0</td>\n",
              "      <td>77.0</td>\n",
              "      <td>57.0</td>\n",
              "      <td>176.000000</td>\n",
              "      <td>112.000000</td>\n",
              "      <td>164.0</td>\n",
              "      <td>109.0</td>\n",
              "      <td>164.0</td>\n",
              "      <td>109.0</td>\n",
              "      <td>50.0</td>\n",
              "      <td>82.0</td>\n",
              "      <td>44.0</td>\n",
              "      <td>73.000000</td>\n",
              "      <td>66.000000</td>\n",
              "      <td>73.000000</td>\n",
              "      <td>66.000000</td>\n",
              "      <td>154.000000</td>\n",
              "      <td>136.000000</td>\n",
              "      <td>154.000000</td>\n",
              "      <td>136.000000</td>\n",
              "      <td>82.0</td>\n",
              "      <td>62.0</td>\n",
              "      <td>3.300000</td>\n",
              "      <td>3.30000</td>\n",
              "      <td>3.209862</td>\n",
              "      <td>2.199921</td>\n",
              "      <td>1.500000</td>\n",
              "      <td>1.500000</td>\n",
              "      <td>0.0</td>\n",
              "      <td>0.0</td>\n",
              "      <td>0.0</td>\n",
              "      <td>0.0</td>\n",
              "      <td>0.0</td>\n",
              "      <td>1.0</td>\n",
              "    </tr>\n",
              "    <tr>\n",
              "      <th>3</th>\n",
              "      <td>71.0</td>\n",
              "      <td>29.923671</td>\n",
              "      <td>67.00000</td>\n",
              "      <td>75.000000</td>\n",
              "      <td>75.000000</td>\n",
              "      <td>134.0</td>\n",
              "      <td>67.0</td>\n",
              "      <td>79.773308</td>\n",
              "      <td>46.013596</td>\n",
              "      <td>98.0</td>\n",
              "      <td>38.0</td>\n",
              "      <td>98.0</td>\n",
              "      <td>38.0</td>\n",
              "      <td>153.067895</td>\n",
              "      <td>92.752244</td>\n",
              "      <td>130.0</td>\n",
              "      <td>97.0</td>\n",
              "      <td>130.0</td>\n",
              "      <td>97.0</td>\n",
              "      <td>60.0</td>\n",
              "      <td>76.0</td>\n",
              "      <td>60.0</td>\n",
              "      <td>57.000000</td>\n",
              "      <td>38.000000</td>\n",
              "      <td>57.000000</td>\n",
              "      <td>38.000000</td>\n",
              "      <td>120.000000</td>\n",
              "      <td>97.000000</td>\n",
              "      <td>120.000000</td>\n",
              "      <td>97.000000</td>\n",
              "      <td>64.0</td>\n",
              "      <td>60.0</td>\n",
              "      <td>2.600000</td>\n",
              "      <td>2.60000</td>\n",
              "      <td>2.836248</td>\n",
              "      <td>2.026176</td>\n",
              "      <td>1.300000</td>\n",
              "      <td>1.300000</td>\n",
              "      <td>0.0</td>\n",
              "      <td>1.0</td>\n",
              "      <td>0.0</td>\n",
              "      <td>0.0</td>\n",
              "      <td>0.0</td>\n",
              "      <td>0.0</td>\n",
              "    </tr>\n",
              "    <tr>\n",
              "      <th>4</th>\n",
              "      <td>87.0</td>\n",
              "      <td>23.502142</td>\n",
              "      <td>75.00000</td>\n",
              "      <td>75.000000</td>\n",
              "      <td>75.000000</td>\n",
              "      <td>141.0</td>\n",
              "      <td>75.0</td>\n",
              "      <td>79.773308</td>\n",
              "      <td>46.013596</td>\n",
              "      <td>83.0</td>\n",
              "      <td>45.0</td>\n",
              "      <td>83.0</td>\n",
              "      <td>45.0</td>\n",
              "      <td>153.067895</td>\n",
              "      <td>92.752244</td>\n",
              "      <td>164.0</td>\n",
              "      <td>97.0</td>\n",
              "      <td>164.0</td>\n",
              "      <td>97.0</td>\n",
              "      <td>49.0</td>\n",
              "      <td>75.0</td>\n",
              "      <td>0.0</td>\n",
              "      <td>59.000000</td>\n",
              "      <td>54.000000</td>\n",
              "      <td>59.000000</td>\n",
              "      <td>54.000000</td>\n",
              "      <td>140.000000</td>\n",
              "      <td>139.000000</td>\n",
              "      <td>140.000000</td>\n",
              "      <td>139.000000</td>\n",
              "      <td>63.0</td>\n",
              "      <td>36.0</td>\n",
              "      <td>2.907929</td>\n",
              "      <td>2.83991</td>\n",
              "      <td>2.836248</td>\n",
              "      <td>2.026176</td>\n",
              "      <td>1.013703</td>\n",
              "      <td>0.949435</td>\n",
              "      <td>0.0</td>\n",
              "      <td>1.0</td>\n",
              "      <td>0.0</td>\n",
              "      <td>0.0</td>\n",
              "      <td>0.0</td>\n",
              "      <td>0.0</td>\n",
              "    </tr>\n",
              "  </tbody>\n",
              "</table>\n",
              "</div>"
            ],
            "text/plain": [
              "    age        bmi  ...  ethnicity_Other/Unknown  gender_M\n",
              "0  66.0  20.414982  ...                      0.0       1.0\n",
              "1  57.0  41.470491  ...                      0.0       1.0\n",
              "2  81.0  21.645014  ...                      0.0       1.0\n",
              "3  71.0  29.923671  ...                      0.0       0.0\n",
              "4  87.0  23.502142  ...                      0.0       0.0\n",
              "\n",
              "[5 rows x 44 columns]"
            ]
          },
          "metadata": {
            "tags": []
          },
          "execution_count": 88
        }
      ]
    },
    {
      "cell_type": "code",
      "metadata": {
        "colab": {
          "base_uri": "https://localhost:8080/"
        },
        "id": "ZP1Q2dA4Aq8D",
        "outputId": "4c675b7b-6c09-4461-94e9-06e27359b685"
      },
      "source": [
        "from sklearn.linear_model import LogisticRegression\r\n",
        "from sklearn.metrics import accuracy_score\r\n",
        "logisticRegr = LogisticRegression(solver = 'newton-cg', max_iter = 2000)\r\n",
        "logisticRegr.fit(X_com, y_com)\r\n",
        "y_log = logisticRegr.predict(X_test)\r\n",
        "accuracy_score(y_test, y_log)"
      ],
      "execution_count": null,
      "outputs": [
        {
          "output_type": "execute_result",
          "data": {
            "text/plain": [
              "0.8007927871910462"
            ]
          },
          "metadata": {
            "tags": []
          },
          "execution_count": 89
        }
      ]
    },
    {
      "cell_type": "markdown",
      "metadata": {
        "id": "9Wh59aKbo3mH"
      },
      "source": [
        "LG:\r\n",
        "\r\n",
        "*   80.32 (without age and bmi)\r\n",
        "*   List item\r\n",
        "\r\n"
      ]
    },
    {
      "cell_type": "code",
      "metadata": {
        "colab": {
          "base_uri": "https://localhost:8080/"
        },
        "id": "__zAnf_SAxmi",
        "outputId": "69a050ab-2a61-4928-ae58-0bbcffc92962"
      },
      "source": [
        "from sklearn.ensemble import RandomForestClassifier\r\n",
        "clf = RandomForestClassifier()\r\n",
        "clf.fit(X_com, y_com)\r\n",
        "y_rf = clf.predict(X_test)\r\n",
        "accuracy_score(y_test, y_rf)"
      ],
      "execution_count": null,
      "outputs": [
        {
          "output_type": "execute_result",
          "data": {
            "text/plain": [
              "0.8099253847349603"
            ]
          },
          "metadata": {
            "tags": []
          },
          "execution_count": 90
        }
      ]
    },
    {
      "cell_type": "markdown",
      "metadata": {
        "id": "PU2rxxwDpVss"
      },
      "source": [
        "RF\r\n",
        "\r\n",
        "\r\n",
        "*   80.59\r\n",
        "*   List item\r\n",
        "\r\n"
      ]
    },
    {
      "cell_type": "code",
      "metadata": {
        "colab": {
          "base_uri": "https://localhost:8080/"
        },
        "id": "PzF4i7RIAzln",
        "outputId": "ccdf933f-74f4-4de1-d5d1-3fa45e41059c"
      },
      "source": [
        "from sklearn.neighbors import KNeighborsClassifier\r\n",
        "knn = KNeighborsClassifier(n_neighbors=5)\r\n",
        "knn.fit(X_com, y_com)\r\n",
        "y_knn = knn.predict(X_test)\r\n",
        "accuracy_score(y_test, y_knn)"
      ],
      "execution_count": null,
      "outputs": [
        {
          "output_type": "execute_result",
          "data": {
            "text/plain": [
              "0.7441706824187782"
            ]
          },
          "metadata": {
            "tags": []
          },
          "execution_count": 62
        }
      ]
    },
    {
      "cell_type": "code",
      "metadata": {
        "colab": {
          "base_uri": "https://localhost:8080/"
        },
        "id": "BMUm1INOA1xG",
        "outputId": "0f807aba-48f0-43a2-d56c-a7d6cb5935c2"
      },
      "source": [
        "from xgboost import XGBClassifier\r\n",
        "clf4 = XGBClassifier(max_depth=30, n_estimators=42,  objective='multi:softprob', learning_rate=0.3, num_class=2)\r\n",
        "clf4.fit(X_com, y_com)\r\n",
        "y_xgbc = clf4.predict(X_test)\r\n",
        "accuracy_score(y_test, y_xgbc)"
      ],
      "execution_count": null,
      "outputs": [
        {
          "output_type": "execute_result",
          "data": {
            "text/plain": [
              "0.8000932690812995"
            ]
          },
          "metadata": {
            "tags": []
          },
          "execution_count": 91
        }
      ]
    },
    {
      "cell_type": "markdown",
      "metadata": {
        "id": "QOoHg8GZpwSf"
      },
      "source": [
        "XGB \r\n",
        "\r\n",
        "*   79.737\r\n",
        "*   List item\r\n",
        "\r\n"
      ]
    },
    {
      "cell_type": "code",
      "metadata": {
        "colab": {
          "base_uri": "https://localhost:8080/"
        },
        "id": "UIUmLIplA30N",
        "outputId": "64cf612d-3182-4a97-a5ab-132e298baf0e"
      },
      "source": [
        "from sklearn.ensemble import VotingClassifier\r\n",
        "from sklearn.pipeline import Pipeline\r\n",
        "from functools import partial\r\n",
        "from sklearn.metrics import classification_report\r\n",
        "\r\n",
        "\r\n",
        "models = list()\r\n",
        "# create the pipeline\r\n",
        "#pipe = Pipeline([('ContinuousFeturesSelector',ce), ('m', clf3)])\r\n",
        "# add as a tuple to the list of models for voting\r\n",
        "models.append(('rf', clf))\r\n",
        "models.append(('knn', knn))\r\n",
        "models.append(('XGBC', clf4))\r\n",
        "models.append(('lg', logisticRegr))\r\n",
        "\r\n",
        "# define the voting ensemble\r\n",
        "\r\n",
        "model = VotingClassifier(estimators=models, voting='soft', weights=[4,1,2,3])\r\n",
        "\r\n",
        "model.fit(X_com.values, y_com)\r\n",
        "print(f\"accuracy score voting is {accuracy_score(y_test, model.predict(X_test.values))}\")\r\n",
        "print(classification_report(y_test, model.predict(X_test.values)))"
      ],
      "execution_count": null,
      "outputs": [
        {
          "output_type": "stream",
          "text": [
            "accuracy score voting is 0.8096533499145033\n",
            "              precision    recall  f1-score   support\n",
            "\n",
            "         0.0       0.88      0.88      0.88     20140\n",
            "         1.0       0.56      0.56      0.56      5592\n",
            "\n",
            "    accuracy                           0.81     25732\n",
            "   macro avg       0.72      0.72      0.72     25732\n",
            "weighted avg       0.81      0.81      0.81     25732\n",
            "\n"
          ],
          "name": "stdout"
        }
      ]
    },
    {
      "cell_type": "markdown",
      "metadata": {
        "id": "EJtbYQgTq_Mz"
      },
      "source": [
        "VC\r\n",
        "\r\n",
        "\r\n",
        "*   80.724\r\n",
        "*   Precision (0.56 and 0.87)\r\n",
        "\r\n"
      ]
    },
    {
      "cell_type": "code",
      "metadata": {
        "colab": {
          "base_uri": "https://localhost:8080/"
        },
        "id": "kauZmZtMrSHq",
        "outputId": "4c06901b-4553-42a3-c9dd-2ab07d1d4e31"
      },
      "source": [
        "from sklearn.naive_bayes import GaussianNB\r\n",
        "GNB = GaussianNB()\r\n",
        "GNB.fit(X_com, y_com)\r\n",
        "y_gnb = GNB.predict(X_test)\r\n",
        "print(accuracy_score(y_test, y_gnb))\r\n",
        "print(classification_report(y_test, y_gnb))"
      ],
      "execution_count": null,
      "outputs": [
        {
          "output_type": "stream",
          "text": [
            "0.7868412871133219\n",
            "              precision    recall  f1-score   support\n",
            "\n",
            "         0.0       0.85      0.88      0.87     20140\n",
            "         1.0       0.51      0.44      0.47      5592\n",
            "\n",
            "    accuracy                           0.79     25732\n",
            "   macro avg       0.68      0.66      0.67     25732\n",
            "weighted avg       0.78      0.79      0.78     25732\n",
            "\n"
          ],
          "name": "stdout"
        }
      ]
    },
    {
      "cell_type": "code",
      "metadata": {
        "colab": {
          "base_uri": "https://localhost:8080/"
        },
        "id": "n83NNsPXwnSM",
        "outputId": "a897332d-e36d-4ad0-8d99-9ae856a14d74"
      },
      "source": [
        "from sklearn.naive_bayes import GaussianNB\r\n",
        "GNB = GaussianNB()\r\n",
        "GNB.fit(X_over, y_over)\r\n",
        "y_gnb = GNB.predict(X_test)\r\n",
        "print(accuracy_score(y_test, y_gnb))\r\n",
        "print(classification_report(y_test, y_gnb))"
      ],
      "execution_count": null,
      "outputs": [
        {
          "output_type": "stream",
          "text": [
            "0.7796906575470232\n",
            "              precision    recall  f1-score   support\n",
            "\n",
            "         0.0       0.86      0.86      0.86     20140\n",
            "         1.0       0.49      0.49      0.49      5592\n",
            "\n",
            "    accuracy                           0.78     25732\n",
            "   macro avg       0.68      0.67      0.68     25732\n",
            "weighted avg       0.78      0.78      0.78     25732\n",
            "\n"
          ],
          "name": "stdout"
        }
      ]
    },
    {
      "cell_type": "code",
      "metadata": {
        "colab": {
          "base_uri": "https://localhost:8080/"
        },
        "id": "uYToaW0Awxn5",
        "outputId": "9809b828-d338-41c5-cacd-9bbc9622a782"
      },
      "source": [
        "from sklearn.naive_bayes import GaussianNB\r\n",
        "GNB = GaussianNB()\r\n",
        "GNB.fit(X_under, y_under)\r\n",
        "y_gnb = GNB.predict(X_test)\r\n",
        "print(accuracy_score(y_test, y_gnb))\r\n",
        "print(classification_report(y_test, y_gnb))"
      ],
      "execution_count": null,
      "outputs": [
        {
          "output_type": "stream",
          "text": [
            "0.7731229597388466\n",
            "              precision    recall  f1-score   support\n",
            "\n",
            "         0.0       0.86      0.85      0.85     20140\n",
            "         1.0       0.48      0.49      0.49      5592\n",
            "\n",
            "    accuracy                           0.77     25732\n",
            "   macro avg       0.67      0.67      0.67     25732\n",
            "weighted avg       0.78      0.77      0.77     25732\n",
            "\n"
          ],
          "name": "stdout"
        }
      ]
    },
    {
      "cell_type": "code",
      "metadata": {
        "colab": {
          "base_uri": "https://localhost:8080/"
        },
        "id": "PW4mzFwextaB",
        "outputId": "ed548863-fe44-402e-f40e-348d55d17265"
      },
      "source": [
        "from sklearn import svm\r\n",
        "svc = svm.SVC()\r\n",
        "svc.fit(X_under, y_under)\r\n",
        "y_svc = svc.predict(X_test)\r\n",
        "print(accuracy_score(y_test, y_svc))\r\n",
        "print(classification_report(y_test, y_svc))"
      ],
      "execution_count": null,
      "outputs": [
        {
          "output_type": "stream",
          "text": [
            "0.7452976838178144\n",
            "              precision    recall  f1-score   support\n",
            "\n",
            "         0.0       0.91      0.75      0.82     20140\n",
            "         1.0       0.45      0.74      0.56      5592\n",
            "\n",
            "    accuracy                           0.75     25732\n",
            "   macro avg       0.68      0.74      0.69     25732\n",
            "weighted avg       0.81      0.75      0.76     25732\n",
            "\n"
          ],
          "name": "stdout"
        }
      ]
    },
    {
      "cell_type": "markdown",
      "metadata": {
        "id": "IB-FbcdKwdlB"
      },
      "source": [
        "### SMOTE Oversampling method"
      ]
    },
    {
      "cell_type": "code",
      "metadata": {
        "id": "tJWY5VxSOXVu"
      },
      "source": [
        "from sklearn.naive_bayes import GaussianNB\r\n",
        "from sklearn.model_selection import RepeatedStratifiedKFold\r\n",
        "from sklearn.tree import DecisionTreeClassifier\r\n",
        "from imblearn.over_sampling import SMOTE\r\n",
        "from imblearn.over_sampling import BorderlineSMOTE\r\n"
      ],
      "execution_count": null,
      "outputs": []
    },
    {
      "cell_type": "code",
      "metadata": {
        "colab": {
          "base_uri": "https://localhost:8080/"
        },
        "id": "-s3fhifT5IUg",
        "outputId": "a74a6fd8-b8d2-4a78-b9fb-9e14079220ca"
      },
      "source": [
        "from numpy import mean\r\n",
        "from sklearn.model_selection import cross_val_score\r\n",
        "from sklearn.model_selection import RepeatedStratifiedKFold\r\n",
        "from sklearn.tree import DecisionTreeClassifier\r\n",
        "from imblearn.pipeline import Pipeline\r\n",
        "from imblearn.over_sampling import SMOTE\r\n",
        "\r\n",
        "# define pipeline\r\n",
        "steps = [('over', SMOTE()), ('model', DecisionTreeClassifier())]\r\n",
        "pipeline = Pipeline(steps=steps)\r\n",
        "# evaluate pipeline\r\n",
        "cv = RepeatedStratifiedKFold(n_splits=10, n_repeats=3, random_state=1)\r\n",
        "scores = cross_val_score(pipeline, X, y, scoring='roc_auc', cv=cv, n_jobs=-1)\r\n",
        "print('Mean ROC AUC: %.3f' % mean(scores))"
      ],
      "execution_count": null,
      "outputs": [
        {
          "output_type": "stream",
          "text": [
            "/usr/local/lib/python3.6/dist-packages/sklearn/externals/six.py:31: FutureWarning: The module is deprecated in version 0.21 and will be removed in version 0.23 since we've dropped support for Python 2.7. Please rely on the official version of six (https://pypi.org/project/six/).\n",
            "  \"(https://pypi.org/project/six/).\", FutureWarning)\n",
            "/usr/local/lib/python3.6/dist-packages/sklearn/utils/deprecation.py:144: FutureWarning: The sklearn.neighbors.base module is  deprecated in version 0.22 and will be removed in version 0.24. The corresponding classes / functions should instead be imported from sklearn.neighbors. Anything that cannot be imported from sklearn.neighbors is now part of the private API.\n",
            "  warnings.warn(message, FutureWarning)\n"
          ],
          "name": "stderr"
        },
        {
          "output_type": "stream",
          "text": [
            "Mean ROC AUC: 0.631\n"
          ],
          "name": "stdout"
        }
      ]
    },
    {
      "cell_type": "code",
      "metadata": {
        "colab": {
          "base_uri": "https://localhost:8080/"
        },
        "id": "V0q2QoEQ1dbH",
        "outputId": "2e1c8db8-5291-4835-df6b-1740d958b5fc"
      },
      "source": [
        "from imblearn.over_sampling import BorderlineSMOTE\r\n",
        "oversample = BorderlineSMOTE()\r\n",
        "X_bsmote, y_bsmote = oversample.fit_resample(X_train, y_train)"
      ],
      "execution_count": null,
      "outputs": [
        {
          "output_type": "stream",
          "text": [
            "/usr/local/lib/python3.6/dist-packages/sklearn/utils/deprecation.py:87: FutureWarning: Function safe_indexing is deprecated; safe_indexing is deprecated in version 0.22 and will be removed in version 0.24.\n",
            "  warnings.warn(msg, category=FutureWarning)\n",
            "/usr/local/lib/python3.6/dist-packages/sklearn/utils/deprecation.py:87: FutureWarning: Function safe_indexing is deprecated; safe_indexing is deprecated in version 0.22 and will be removed in version 0.24.\n",
            "  warnings.warn(msg, category=FutureWarning)\n",
            "/usr/local/lib/python3.6/dist-packages/sklearn/utils/deprecation.py:87: FutureWarning: Function safe_indexing is deprecated; safe_indexing is deprecated in version 0.22 and will be removed in version 0.24.\n",
            "  warnings.warn(msg, category=FutureWarning)\n"
          ],
          "name": "stderr"
        }
      ]
    },
    {
      "cell_type": "code",
      "metadata": {
        "colab": {
          "base_uri": "https://localhost:8080/"
        },
        "id": "xdCtDSZ52ADS",
        "outputId": "31a88530-ca3a-4c23-a994-42cc7e4a5de5"
      },
      "source": [
        "X_bsmote = pd.DataFrame(X_bsmote)\r\n",
        "X_bsmote.columns = X_train.columns\r\n",
        "X_bsmote.shape"
      ],
      "execution_count": null,
      "outputs": [
        {
          "output_type": "execute_result",
          "data": {
            "text/plain": [
              "(161118, 44)"
            ]
          },
          "metadata": {
            "tags": []
          },
          "execution_count": 14
        }
      ]
    },
    {
      "cell_type": "code",
      "metadata": {
        "colab": {
          "base_uri": "https://localhost:8080/"
        },
        "id": "FvCU0kNA2tXE",
        "outputId": "277334da-4e8d-447c-eae8-949dd8b35aae"
      },
      "source": [
        "from sklearn.naive_bayes import GaussianNB\r\n",
        "GNB = GaussianNB()\r\n",
        "GNB.fit(X_bsmote, y_bsmote)\r\n",
        "y_gnb = GNB.predict(X_test)\r\n",
        "print(accuracy_score(y_test, y_gnb))\r\n",
        "print(classification_report(y_test, y_gnb))"
      ],
      "execution_count": null,
      "outputs": [
        {
          "output_type": "stream",
          "text": [
            "0.6968754857764651\n",
            "              precision    recall  f1-score   support\n",
            "\n",
            "         0.0       0.88      0.71      0.79     20140\n",
            "         1.0       0.38      0.65      0.48      5592\n",
            "\n",
            "    accuracy                           0.70     25732\n",
            "   macro avg       0.63      0.68      0.63     25732\n",
            "weighted avg       0.77      0.70      0.72     25732\n",
            "\n"
          ],
          "name": "stdout"
        }
      ]
    },
    {
      "cell_type": "code",
      "metadata": {
        "colab": {
          "base_uri": "https://localhost:8080/"
        },
        "id": "HF7rZure299p",
        "outputId": "7a43d401-7158-4a2f-9b85-886709701d5b"
      },
      "source": [
        "from sklearn.neighbors import KNeighborsClassifier\r\n",
        "knn = KNeighborsClassifier(n_neighbors=5)\r\n",
        "knn.fit(X_bsmote, y_bsmote)\r\n",
        "y_knn = knn.predict(X_test)\r\n",
        "print(accuracy_score(y_test, y_knn))\r\n",
        "print(classification_report(y_test, y_knn))"
      ],
      "execution_count": null,
      "outputs": [
        {
          "output_type": "stream",
          "text": [
            "0.685916368723768\n",
            "              precision    recall  f1-score   support\n",
            "\n",
            "         0.0       0.89      0.68      0.77     20140\n",
            "         1.0       0.38      0.69      0.49      5592\n",
            "\n",
            "    accuracy                           0.69     25732\n",
            "   macro avg       0.63      0.69      0.63     25732\n",
            "weighted avg       0.78      0.69      0.71     25732\n",
            "\n"
          ],
          "name": "stdout"
        }
      ]
    },
    {
      "cell_type": "code",
      "metadata": {
        "id": "Et9AOYrv4RA2"
      },
      "source": [
        "y_train_knn = knn.predict(X_bsmote)\r\n",
        "accuracy_score(y_train_knn, y_bsmote)"
      ],
      "execution_count": null,
      "outputs": []
    },
    {
      "cell_type": "code",
      "metadata": {
        "id": "zv_5452A4KPg"
      },
      "source": [
        "from sklearn.ensemble import RandomForestClassifier\r\n",
        "clf = RandomForestClassifier()\r\n",
        "clf.fit(X_bsmote, y_bsmote)\r\n",
        "y_rf = clf.predict(X_test)\r\n",
        "accuracy_score(y_test, y_rf)"
      ],
      "execution_count": null,
      "outputs": []
    },
    {
      "cell_type": "code",
      "metadata": {
        "colab": {
          "base_uri": "https://localhost:8080/"
        },
        "id": "zuSeC0uW6ytx",
        "outputId": "23bcc85b-716b-4b67-83a2-b5494911a6cc"
      },
      "source": [
        "from collections import Counter\r\n",
        "from imblearn.over_sampling import SMOTE\r\n",
        "from imblearn.under_sampling import RandomUnderSampler\r\n",
        "from imblearn.pipeline import Pipeline\r\n",
        "over = SMOTE(sampling_strategy=0.4)\r\n",
        "under = RandomUnderSampler(sampling_strategy=0.6)\r\n",
        "steps = [('o', over), ('u', under)]\r\n",
        "pipeline = Pipeline(steps=steps)\r\n",
        "X_scom, y_scom = pipeline.fit_resample(X_train, y_train)\r\n",
        "counter = Counter(y_scom)"
      ],
      "execution_count": null,
      "outputs": [
        {
          "output_type": "stream",
          "text": [
            "/usr/local/lib/python3.6/dist-packages/sklearn/externals/six.py:31: FutureWarning: The module is deprecated in version 0.21 and will be removed in version 0.23 since we've dropped support for Python 2.7. Please rely on the official version of six (https://pypi.org/project/six/).\n",
            "  \"(https://pypi.org/project/six/).\", FutureWarning)\n",
            "/usr/local/lib/python3.6/dist-packages/sklearn/utils/deprecation.py:144: FutureWarning: The sklearn.neighbors.base module is  deprecated in version 0.22 and will be removed in version 0.24. The corresponding classes / functions should instead be imported from sklearn.neighbors. Anything that cannot be imported from sklearn.neighbors is now part of the private API.\n",
            "  warnings.warn(message, FutureWarning)\n",
            "/usr/local/lib/python3.6/dist-packages/sklearn/utils/deprecation.py:87: FutureWarning: Function safe_indexing is deprecated; safe_indexing is deprecated in version 0.22 and will be removed in version 0.24.\n",
            "  warnings.warn(msg, category=FutureWarning)\n",
            "/usr/local/lib/python3.6/dist-packages/sklearn/utils/deprecation.py:87: FutureWarning: Function safe_indexing is deprecated; safe_indexing is deprecated in version 0.22 and will be removed in version 0.24.\n",
            "  warnings.warn(msg, category=FutureWarning)\n"
          ],
          "name": "stderr"
        }
      ]
    },
    {
      "cell_type": "code",
      "metadata": {
        "colab": {
          "base_uri": "https://localhost:8080/"
        },
        "id": "De8I-X_D7jX0",
        "outputId": "2e2326c5-dca6-4fb8-c213-c81f9debb834"
      },
      "source": [
        "print(y_train.value_counts())\r\n",
        "print(counter)\r\n",
        "X_scom = pd.DataFrame(X_scom)\r\n",
        "X_scom.columns = X_train.columns"
      ],
      "execution_count": null,
      "outputs": [
        {
          "output_type": "stream",
          "text": [
            "0.0    80559\n",
            "1.0    22366\n",
            "Name: diabetes_mellitus, dtype: int64\n",
            "Counter({0.0: 53705, 1.0: 32223})\n"
          ],
          "name": "stdout"
        }
      ]
    },
    {
      "cell_type": "code",
      "metadata": {
        "colab": {
          "base_uri": "https://localhost:8080/"
        },
        "id": "NN0iODvF7rW_",
        "outputId": "5e84b966-a9a4-45d4-beac-7f0963441532"
      },
      "source": [
        "from sklearn.ensemble import RandomForestClassifier\r\n",
        "clf = RandomForestClassifier()\r\n",
        "clf.fit(X_scom, y_scom)\r\n",
        "y_rf = clf.predict(X_test)\r\n",
        "print(accuracy_score(y_test, y_rf))\r\n",
        "print(classification_report(y_test, y_rf))\r\n",
        "print(classification_report(y_test, y_rf))"
      ],
      "execution_count": null,
      "outputs": [
        {
          "output_type": "execute_result",
          "data": {
            "text/plain": [
              "0.8074770713508472"
            ]
          },
          "metadata": {
            "tags": []
          },
          "execution_count": 9
        }
      ]
    },
    {
      "cell_type": "code",
      "metadata": {
        "colab": {
          "base_uri": "https://localhost:8080/"
        },
        "id": "ksH07bF49ECe",
        "outputId": "6ea3c0eb-48aa-43b4-cbfd-e0be5fae6d77"
      },
      "source": [
        "from sklearn.neighbors import KNeighborsClassifier\r\n",
        "knn = KNeighborsClassifier(n_neighbors=5)\r\n",
        "knn.fit(X_scom, y_scom)\r\n",
        "y_knn = knn.predict(X_test)\r\n",
        "print(accuracy_score(y_test, y_knn))\r\n",
        "print(classification_report(y_test, y_knn))"
      ],
      "execution_count": null,
      "outputs": [
        {
          "output_type": "stream",
          "text": [
            "0.7347271879371988\n",
            "              precision    recall  f1-score   support\n",
            "\n",
            "         0.0       0.87      0.77      0.82     20140\n",
            "         1.0       0.42      0.60      0.49      5592\n",
            "\n",
            "    accuracy                           0.73     25732\n",
            "   macro avg       0.65      0.69      0.66     25732\n",
            "weighted avg       0.78      0.73      0.75     25732\n",
            "\n"
          ],
          "name": "stdout"
        }
      ]
    },
    {
      "cell_type": "code",
      "metadata": {
        "colab": {
          "base_uri": "https://localhost:8080/"
        },
        "id": "9YqyigPk9zrE",
        "outputId": "6ff64fa9-1177-41a7-86b6-f8597883c216"
      },
      "source": [
        "from xgboost import XGBClassifier\r\n",
        "clf4 = XGBClassifier(max_depth=30, n_estimators=42,  objective='multi:softprob', learning_rate=0.3, num_class=2)\r\n",
        "clf4.fit(X_scom, y_scom)\r\n",
        "y_xgbc = clf4.predict(X_test)\r\n",
        "print(accuracy_score(y_test, y_xgbc))\r\n",
        "print(classification_report(y_test, y_xgbc))"
      ],
      "execution_count": null,
      "outputs": [
        {
          "output_type": "stream",
          "text": [
            "0.7990828540338878\n",
            "              precision    recall  f1-score   support\n",
            "\n",
            "         0.0       0.88      0.86      0.87     20140\n",
            "         1.0       0.54      0.56      0.55      5592\n",
            "\n",
            "    accuracy                           0.80     25732\n",
            "   macro avg       0.71      0.71      0.71     25732\n",
            "weighted avg       0.80      0.80      0.80     25732\n",
            "\n"
          ],
          "name": "stdout"
        }
      ]
    },
    {
      "cell_type": "code",
      "metadata": {
        "colab": {
          "base_uri": "https://localhost:8080/"
        },
        "id": "QFOi3sxp8eJh",
        "outputId": "fb6ae981-266a-44fa-86b5-95c6bbe1e970"
      },
      "source": [
        "from sklearn.ensemble import VotingClassifier\r\n",
        "from sklearn.pipeline import Pipeline\r\n",
        "from functools import partial\r\n",
        "from sklearn.metrics import classification_report\r\n",
        "\r\n",
        "\r\n",
        "models = list()\r\n",
        "# create the pipeline\r\n",
        "#pipe = Pipeline([('ContinuousFeturesSelector',ce), ('m', clf3)])\r\n",
        "# add as a tuple to the list of models for voting\r\n",
        "models.append(('rf', clf))\r\n",
        "models.append(('knn', knn))\r\n",
        "models.append(('XGBC', clf4))\r\n",
        "\r\n",
        "\r\n",
        "# define the voting ensemble\r\n",
        "\r\n",
        "model = VotingClassifier(estimators=models, voting='soft', weights=[4,2,4])\r\n",
        "\r\n",
        "model.fit(X_scom.values, y_scom)\r\n",
        "print(f\"accuracy score voting is {accuracy_score(y_test, model.predict(X_test.values))}\")\r\n",
        "print(classification_report(y_test, model.predict(X_test.values)))"
      ],
      "execution_count": null,
      "outputs": [
        {
          "output_type": "stream",
          "text": [
            "accuracy score voting is 0.8040960671537385\n",
            "              precision    recall  f1-score   support\n",
            "\n",
            "         0.0       0.88      0.87      0.87     20140\n",
            "         1.0       0.55      0.57      0.56      5592\n",
            "\n",
            "    accuracy                           0.80     25732\n",
            "   macro avg       0.71      0.72      0.72     25732\n",
            "weighted avg       0.81      0.80      0.81     25732\n",
            "\n"
          ],
          "name": "stdout"
        }
      ]
    }
  ]
}